{
 "cells": [
  {
   "cell_type": "markdown",
   "metadata": {
    "nbpresent": {
     "id": "c8b3ec86-ac5d-44c9-a5c5-ea12c7ccb113"
    },
    "slideshow": {
     "slide_type": "slide"
    }
   },
   "source": [
    "# Introduction to Natural Language Processing\n",
    "\n",
    "In this notebook, we'll go over some fundamental feature extraction concepts (very shallow NLP) using NLTK and scikit-learn.  This will lay the foundation for using machine learning with text data."
   ]
  },
  {
   "cell_type": "markdown",
   "metadata": {},
   "source": [
    "### The term-document matrix representation of a corpus.\n",
    "\n",
    "This representation is extremely common for shallow NLP tasks, such as document-level classification.\n",
    "\n",
    "Also known as \"bag of words\"."
   ]
  },
  {
   "cell_type": "code",
   "execution_count": 55,
   "metadata": {
    "collapsed": true
   },
   "outputs": [],
   "source": [
    "# example unicode text\n",
    "docs = [u'The patient was seen for bird flu.', \n",
    "        u'The patient was seen for chickenpox.', \n",
    "        u'The patient was seen for dengue.']"
   ]
  },
  {
   "cell_type": "code",
   "execution_count": 56,
   "metadata": {
    "collapsed": false
   },
   "outputs": [
    {
     "data": {
      "text/plain": [
       "[u'bird',\n",
       " u'chickenpox',\n",
       " u'dengue',\n",
       " u'flu',\n",
       " u'for',\n",
       " u'patient',\n",
       " u'seen',\n",
       " u'the',\n",
       " u'was']"
      ]
     },
     "execution_count": 56,
     "metadata": {},
     "output_type": "execute_result"
    }
   ],
   "source": [
    "from sklearn.feature_extraction.text import CountVectorizer\n",
    "tf_vectorizer = CountVectorizer(max_df=1., min_df=0,\n",
    "                                max_features=100,\n",
    "                                ngram_range=(1, 1),\n",
    "                                stop_words=None)\n",
    "\n",
    "tf = tf_vectorizer.fit_transform(docs)\n",
    "tf_vectorizer.get_feature_names()"
   ]
  },
  {
   "cell_type": "markdown",
   "metadata": {},
   "source": [
    "*tf*   is a sparse matrix.\n",
    "\n",
    "To see its contents, we'll use pandas to convert it to a table..."
   ]
  },
  {
   "cell_type": "code",
   "execution_count": 57,
   "metadata": {
    "collapsed": false
   },
   "outputs": [
    {
     "data": {
      "text/html": [
       "<div>\n",
       "<table border=\"1\" class=\"dataframe\">\n",
       "  <thead>\n",
       "    <tr style=\"text-align: right;\">\n",
       "      <th></th>\n",
       "      <th>bird</th>\n",
       "      <th>chickenpox</th>\n",
       "      <th>dengue</th>\n",
       "      <th>flu</th>\n",
       "      <th>for</th>\n",
       "      <th>patient</th>\n",
       "      <th>seen</th>\n",
       "      <th>the</th>\n",
       "      <th>was</th>\n",
       "    </tr>\n",
       "  </thead>\n",
       "  <tbody>\n",
       "    <tr>\n",
       "      <th>0</th>\n",
       "      <td>1</td>\n",
       "      <td>0</td>\n",
       "      <td>0</td>\n",
       "      <td>1</td>\n",
       "      <td>1</td>\n",
       "      <td>1</td>\n",
       "      <td>1</td>\n",
       "      <td>1</td>\n",
       "      <td>1</td>\n",
       "    </tr>\n",
       "    <tr>\n",
       "      <th>1</th>\n",
       "      <td>0</td>\n",
       "      <td>1</td>\n",
       "      <td>0</td>\n",
       "      <td>0</td>\n",
       "      <td>1</td>\n",
       "      <td>1</td>\n",
       "      <td>1</td>\n",
       "      <td>1</td>\n",
       "      <td>1</td>\n",
       "    </tr>\n",
       "    <tr>\n",
       "      <th>2</th>\n",
       "      <td>0</td>\n",
       "      <td>0</td>\n",
       "      <td>1</td>\n",
       "      <td>0</td>\n",
       "      <td>1</td>\n",
       "      <td>1</td>\n",
       "      <td>1</td>\n",
       "      <td>1</td>\n",
       "      <td>1</td>\n",
       "    </tr>\n",
       "  </tbody>\n",
       "</table>\n",
       "</div>"
      ],
      "text/plain": [
       "   bird  chickenpox  dengue  flu  for  patient  seen  the  was\n",
       "0     1           0       0    1    1        1     1    1    1\n",
       "1     0           1       0    0    1        1     1    1    1\n",
       "2     0           0       1    0    1        1     1    1    1"
      ]
     },
     "execution_count": 57,
     "metadata": {},
     "output_type": "execute_result"
    }
   ],
   "source": [
    "import pandas as pd\n",
    "pd.DataFrame(tf.todense(),columns=tf_vectorizer.get_feature_names())"
   ]
  },
  {
   "cell_type": "markdown",
   "metadata": {},
   "source": [
    "**Stop words.**  Words such as 'the', 'a', 'an', and may prepositions are often not so informative, and thus thrown out of the analysis as follows..."
   ]
  },
  {
   "cell_type": "code",
   "execution_count": 58,
   "metadata": {
    "collapsed": false
   },
   "outputs": [
    {
     "data": {
      "text/html": [
       "<div>\n",
       "<table border=\"1\" class=\"dataframe\">\n",
       "  <thead>\n",
       "    <tr style=\"text-align: right;\">\n",
       "      <th></th>\n",
       "      <th>bird</th>\n",
       "      <th>chickenpox</th>\n",
       "      <th>dengue</th>\n",
       "      <th>flu</th>\n",
       "      <th>patient</th>\n",
       "      <th>seen</th>\n",
       "    </tr>\n",
       "  </thead>\n",
       "  <tbody>\n",
       "    <tr>\n",
       "      <th>0</th>\n",
       "      <td>1</td>\n",
       "      <td>0</td>\n",
       "      <td>0</td>\n",
       "      <td>1</td>\n",
       "      <td>1</td>\n",
       "      <td>1</td>\n",
       "    </tr>\n",
       "    <tr>\n",
       "      <th>1</th>\n",
       "      <td>0</td>\n",
       "      <td>1</td>\n",
       "      <td>0</td>\n",
       "      <td>0</td>\n",
       "      <td>1</td>\n",
       "      <td>1</td>\n",
       "    </tr>\n",
       "    <tr>\n",
       "      <th>2</th>\n",
       "      <td>0</td>\n",
       "      <td>0</td>\n",
       "      <td>1</td>\n",
       "      <td>0</td>\n",
       "      <td>1</td>\n",
       "      <td>1</td>\n",
       "    </tr>\n",
       "  </tbody>\n",
       "</table>\n",
       "</div>"
      ],
      "text/plain": [
       "   bird  chickenpox  dengue  flu  patient  seen\n",
       "0     1           0       0    1        1     1\n",
       "1     0           1       0    0        1     1\n",
       "2     0           0       1    0        1     1"
      ]
     },
     "execution_count": 58,
     "metadata": {},
     "output_type": "execute_result"
    }
   ],
   "source": [
    "# apply stop words\n",
    "tf_vectorizer = CountVectorizer(max_df=1., min_df=0,\n",
    "                                max_features=100,\n",
    "                                ngram_range=(1, 1),\n",
    "                                stop_words='english')\n",
    "\n",
    "tf = tf_vectorizer.fit_transform(docs)\n",
    "pd.DataFrame(tf.todense(),columns=tf_vectorizer.get_feature_names())"
   ]
  },
  {
   "cell_type": "markdown",
   "metadata": {},
   "source": [
    "**N-grams.** Single words or tokens are called unigrams, or 1-grams.  Sometimes unigrams simply do not capture enough information. In this case, we can take sequences of tokens.  \n",
    "\n",
    "For example, we want the matrix to record that \"bird flu\" was present in the first document, not just that the first document mentioned \"bird\" and that it also mentioned \"flu\"."
   ]
  },
  {
   "cell_type": "code",
   "execution_count": 59,
   "metadata": {
    "collapsed": false
   },
   "outputs": [
    {
     "data": {
      "text/html": [
       "<div>\n",
       "<table border=\"1\" class=\"dataframe\">\n",
       "  <thead>\n",
       "    <tr style=\"text-align: right;\">\n",
       "      <th></th>\n",
       "      <th>bird</th>\n",
       "      <th>bird flu</th>\n",
       "      <th>chickenpox</th>\n",
       "      <th>dengue</th>\n",
       "      <th>flu</th>\n",
       "      <th>patient</th>\n",
       "      <th>patient seen</th>\n",
       "      <th>seen</th>\n",
       "      <th>seen bird</th>\n",
       "      <th>seen chickenpox</th>\n",
       "      <th>seen dengue</th>\n",
       "    </tr>\n",
       "  </thead>\n",
       "  <tbody>\n",
       "    <tr>\n",
       "      <th>0</th>\n",
       "      <td>1</td>\n",
       "      <td>1</td>\n",
       "      <td>0</td>\n",
       "      <td>0</td>\n",
       "      <td>1</td>\n",
       "      <td>1</td>\n",
       "      <td>1</td>\n",
       "      <td>1</td>\n",
       "      <td>1</td>\n",
       "      <td>0</td>\n",
       "      <td>0</td>\n",
       "    </tr>\n",
       "    <tr>\n",
       "      <th>1</th>\n",
       "      <td>0</td>\n",
       "      <td>0</td>\n",
       "      <td>1</td>\n",
       "      <td>0</td>\n",
       "      <td>0</td>\n",
       "      <td>1</td>\n",
       "      <td>1</td>\n",
       "      <td>1</td>\n",
       "      <td>0</td>\n",
       "      <td>1</td>\n",
       "      <td>0</td>\n",
       "    </tr>\n",
       "    <tr>\n",
       "      <th>2</th>\n",
       "      <td>0</td>\n",
       "      <td>0</td>\n",
       "      <td>0</td>\n",
       "      <td>1</td>\n",
       "      <td>0</td>\n",
       "      <td>1</td>\n",
       "      <td>1</td>\n",
       "      <td>1</td>\n",
       "      <td>0</td>\n",
       "      <td>0</td>\n",
       "      <td>1</td>\n",
       "    </tr>\n",
       "  </tbody>\n",
       "</table>\n",
       "</div>"
      ],
      "text/plain": [
       "   bird  bird flu  chickenpox  dengue  flu  patient  patient seen  seen  \\\n",
       "0     1         1           0       0    1        1             1     1   \n",
       "1     0         0           1       0    0        1             1     1   \n",
       "2     0         0           0       1    0        1             1     1   \n",
       "\n",
       "   seen bird  seen chickenpox  seen dengue  \n",
       "0          1                0            0  \n",
       "1          0                1            0  \n",
       "2          0                0            1  "
      ]
     },
     "execution_count": 59,
     "metadata": {},
     "output_type": "execute_result"
    }
   ],
   "source": [
    "# Let's get the unigrams and bi-grams from the documents.\n",
    "tf_vectorizer = CountVectorizer(max_df=1., min_df=0,\n",
    "                                max_features=100,\n",
    "                                ngram_range=(1, 2),\n",
    "                                stop_words='english')\n",
    "\n",
    "tf = tf_vectorizer.fit_transform(docs)\n",
    "pd.DataFrame(tf.todense(),columns=tf_vectorizer.get_feature_names())"
   ]
  },
  {
   "cell_type": "markdown",
   "metadata": {},
   "source": [
    "We may want to add more complex features, such as tokens with their POS tags."
   ]
  },
  {
   "cell_type": "code",
   "execution_count": 60,
   "metadata": {
    "collapsed": false
   },
   "outputs": [
    {
     "data": {
      "text/html": [
       "<div>\n",
       "<table border=\"1\" class=\"dataframe\">\n",
       "  <thead>\n",
       "    <tr style=\"text-align: right;\">\n",
       "      <th></th>\n",
       "      <th>(., .)</th>\n",
       "      <th>(bird, NN)</th>\n",
       "      <th>(chickenpox, NN)</th>\n",
       "      <th>(dengue, NN)</th>\n",
       "      <th>(flu, NN)</th>\n",
       "      <th>(for, IN)</th>\n",
       "      <th>(patient, NN)</th>\n",
       "      <th>(seen, VBN)</th>\n",
       "      <th>(the, DT)</th>\n",
       "      <th>(was, VBD)</th>\n",
       "    </tr>\n",
       "  </thead>\n",
       "  <tbody>\n",
       "    <tr>\n",
       "      <th>0</th>\n",
       "      <td>1</td>\n",
       "      <td>1</td>\n",
       "      <td>0</td>\n",
       "      <td>0</td>\n",
       "      <td>1</td>\n",
       "      <td>1</td>\n",
       "      <td>1</td>\n",
       "      <td>1</td>\n",
       "      <td>1</td>\n",
       "      <td>1</td>\n",
       "    </tr>\n",
       "    <tr>\n",
       "      <th>1</th>\n",
       "      <td>1</td>\n",
       "      <td>0</td>\n",
       "      <td>1</td>\n",
       "      <td>0</td>\n",
       "      <td>0</td>\n",
       "      <td>1</td>\n",
       "      <td>1</td>\n",
       "      <td>1</td>\n",
       "      <td>1</td>\n",
       "      <td>1</td>\n",
       "    </tr>\n",
       "    <tr>\n",
       "      <th>2</th>\n",
       "      <td>1</td>\n",
       "      <td>0</td>\n",
       "      <td>0</td>\n",
       "      <td>1</td>\n",
       "      <td>0</td>\n",
       "      <td>1</td>\n",
       "      <td>1</td>\n",
       "      <td>1</td>\n",
       "      <td>1</td>\n",
       "      <td>1</td>\n",
       "    </tr>\n",
       "  </tbody>\n",
       "</table>\n",
       "</div>"
      ],
      "text/plain": [
       "   (., .)  (bird, NN)  (chickenpox, NN)  (dengue, NN)  (flu, NN)  (for, IN)  \\\n",
       "0       1           1                 0             0          1          1   \n",
       "1       1           0                 1             0          0          1   \n",
       "2       1           0                 0             1          0          1   \n",
       "\n",
       "   (patient, NN)  (seen, VBN)  (the, DT)  (was, VBD)  \n",
       "0              1            1          1           1  \n",
       "1              1            1          1           1  \n",
       "2              1            1          1           1  "
      ]
     },
     "execution_count": 60,
     "metadata": {},
     "output_type": "execute_result"
    }
   ],
   "source": [
    "import nltk\n",
    "def tokenize_and_tag(doc):\n",
    "     return nltk.pos_tag(nltk.word_tokenize(doc))\n",
    "    \n",
    "tf_vectorizer = CountVectorizer(max_df=1., min_df=1,\n",
    "                                max_features=100,\n",
    "                                ngram_range=(1, 1),\n",
    "                                tokenizer=tokenize_and_tag)\n",
    "\n",
    "tf = tf_vectorizer.fit_transform(docs)\n",
    "pd.DataFrame(tf.todense(),columns=tf_vectorizer.get_feature_names())"
   ]
  },
  {
   "cell_type": "markdown",
   "metadata": {},
   "source": [
    "Now look at the 20 news groups data.  Check scalability."
   ]
  },
  {
   "cell_type": "code",
   "execution_count": 61,
   "metadata": {
    "collapsed": true
   },
   "outputs": [],
   "source": [
    "# Get the 20 newsgroups Corpus (just the train set for now)\n",
    "from sklearn.datasets import fetch_20newsgroups\n",
    "news = fetch_20newsgroups(subset='train',\n",
    "                          categories=('rec.autos',\n",
    "                             'rec.motorcycles',\n",
    "                             'rec.sport.baseball',\n",
    "                             'rec.sport.hockey'),\n",
    "                          remove=('headers', 'footers', 'quotes'))"
   ]
  },
  {
   "cell_type": "code",
   "execution_count": 62,
   "metadata": {
    "collapsed": false
   },
   "outputs": [
    {
     "name": "stdout",
     "output_type": "stream",
     "text": [
      "Using 1-grams up to 1-grams on the first 500 news groups documents yields 9328 features\n",
      "Using 1-grams up to 2-grams on the first 500 news groups documents yields 39452 features\n",
      "Using 1-grams up to 3-grams on the first 500 news groups documents yields 71233 features\n",
      "Using 1-grams up to 4-grams on the first 500 news groups documents yields 102880 features\n"
     ]
    }
   ],
   "source": [
    "for n in range(1,5):\n",
    "    tf_vectorizer = CountVectorizer(max_df=1., min_df=1,\n",
    "                                    max_features=999999,\n",
    "                                    ngram_range=(1, n),\n",
    "                                    stop_words='english')\n",
    "    tf = tf_vectorizer.fit_transform(news.data[:500])\n",
    "    print \"Using 1-grams up to %d-grams on the first 500 news groups documents yields %d features\" % (n,tf.shape[1])"
   ]
  }
 ],
 "metadata": {
  "anaconda-cloud": {},
  "celltoolbar": "Slideshow",
  "kernelspec": {
   "display_name": "Python [default]",
   "language": "python",
   "name": "python2"
  },
  "language_info": {
   "codemirror_mode": {
    "name": "ipython",
    "version": 2
   },
   "file_extension": ".py",
   "mimetype": "text/x-python",
   "name": "python",
   "nbconvert_exporter": "python",
   "pygments_lexer": "ipython2",
   "version": "2.7.12"
  },
  "nbpresent": {
   "slides": {
    "16df8b59-5bc2-4d5b-ba3f-a178744ac923": {
     "id": "16df8b59-5bc2-4d5b-ba3f-a178744ac923",
     "prev": "aa3ee3b4-556f-4ea8-b8a4-e51c983ca770",
     "regions": {
      "ab3fc3b2-a4b3-4943-9aa5-825ac7088ff5": {
       "attrs": {
        "height": 1,
        "width": 1,
        "x": 0,
        "y": 0
       },
       "content": {
        "cell": "1fd934b5-bc66-4e5d-b1f1-b761fd7c1b3b",
        "part": "source"
       },
       "id": "ab3fc3b2-a4b3-4943-9aa5-825ac7088ff5"
      }
     }
    },
    "30f3fb19-fbe3-4d69-abd5-7f8b7f40efd8": {
     "id": "30f3fb19-fbe3-4d69-abd5-7f8b7f40efd8",
     "prev": "16df8b59-5bc2-4d5b-ba3f-a178744ac923",
     "regions": {
      "4e25a3a0-2bae-441b-8b54-169061b9f3e3": {
       "attrs": {
        "height": 1,
        "width": 1,
        "x": 0,
        "y": 0
       },
       "content": {
        "cell": "695365a2-6432-4ccb-a0f7-102a4ada25a2",
        "part": "source"
       },
       "id": "4e25a3a0-2bae-441b-8b54-169061b9f3e3"
      }
     }
    },
    "7a2c2b31-a6ac-4207-9c14-d99373562671": {
     "id": "7a2c2b31-a6ac-4207-9c14-d99373562671",
     "prev": "b5748b9e-f422-4eb4-97d8-013656ea71ea",
     "regions": {
      "522b018f-71db-441b-acea-9bc6ac6e8fab": {
       "attrs": {
        "height": 0.8,
        "width": 0.45,
        "x": 0.05,
        "y": 0.1
       },
       "content": {
        "cell": "a3e854d4-afd1-407b-ad3b-3388adfa5c59",
        "part": "source"
       },
       "id": "522b018f-71db-441b-acea-9bc6ac6e8fab"
      },
      "75c3539a-d2df-44a7-9d7b-b782086041b6": {
       "attrs": {
        "height": 0.8,
        "width": 0.45,
        "x": 0.5,
        "y": 0.1
       },
       "content": {
        "cell": "39a062c0-53d9-4836-b7f2-d863557c3842",
        "part": "whole"
       },
       "id": "75c3539a-d2df-44a7-9d7b-b782086041b6"
      }
     }
    },
    "8ee2439b-8d0e-45af-a452-b807bd7d1cb0": {
     "id": "8ee2439b-8d0e-45af-a452-b807bd7d1cb0",
     "prev": null,
     "regions": {
      "ff2c3bf2-9512-4de8-a236-39de1db8813a": {
       "attrs": {
        "height": 0.8,
        "width": 0.45,
        "x": 0.05,
        "y": 0.1
       },
       "content": {
        "cell": "c8b3ec86-ac5d-44c9-a5c5-ea12c7ccb113",
        "part": "source"
       },
       "id": "ff2c3bf2-9512-4de8-a236-39de1db8813a"
      }
     }
    },
    "aa3ee3b4-556f-4ea8-b8a4-e51c983ca770": {
     "id": "aa3ee3b4-556f-4ea8-b8a4-e51c983ca770",
     "prev": "8ee2439b-8d0e-45af-a452-b807bd7d1cb0",
     "regions": {
      "18dde78c-c9d1-433b-b821-25954e65efc6": {
       "attrs": {
        "height": 1,
        "width": 1,
        "x": 0,
        "y": 0
       },
       "content": {
        "cell": "0c03e049-d629-440b-85bd-ef2883ca61ad",
        "part": "source"
       },
       "id": "18dde78c-c9d1-433b-b821-25954e65efc6"
      }
     }
    },
    "b5748b9e-f422-4eb4-97d8-013656ea71ea": {
     "id": "b5748b9e-f422-4eb4-97d8-013656ea71ea",
     "prev": "30f3fb19-fbe3-4d69-abd5-7f8b7f40efd8",
     "regions": {
      "cf8a6c53-278d-4d91-8131-8a73a4e6ef28": {
       "attrs": {
        "height": 1,
        "width": 1,
        "x": 0,
        "y": 0
       },
       "content": {
        "cell": "a3e854d4-afd1-407b-ad3b-3388adfa5c59",
        "part": "source"
       },
       "id": "cf8a6c53-278d-4d91-8131-8a73a4e6ef28"
      }
     }
    },
    "ffce2803-6b15-4098-9995-74f1fbbb9307": {
     "id": "ffce2803-6b15-4098-9995-74f1fbbb9307",
     "prev": "7a2c2b31-a6ac-4207-9c14-d99373562671",
     "regions": {
      "0f1c7dd4-d298-45cf-8c6a-57b877272ae8": {
       "attrs": {
        "height": 1,
        "width": 1,
        "x": 0,
        "y": 0
       },
       "content": {
        "cell": "39a062c0-53d9-4836-b7f2-d863557c3842",
        "part": "whole"
       },
       "id": "0f1c7dd4-d298-45cf-8c6a-57b877272ae8"
      }
     }
    }
   },
   "themes": {
    "default": "074f5102-975e-42ad-a86d-e888569a1bb0",
    "theme": {
     "074f5102-975e-42ad-a86d-e888569a1bb0": {
      "backgrounds": {
       "dc7afa04-bf90-40b1-82a5-726e3cff5267": {
        "background-color": "31af15d2-7e15-44c5-ab5e-e04b16a89eff",
        "id": "dc7afa04-bf90-40b1-82a5-726e3cff5267"
       }
      },
      "id": "074f5102-975e-42ad-a86d-e888569a1bb0",
      "palette": {
       "19cc588f-0593-49c9-9f4b-e4d7cc113b1c": {
        "id": "19cc588f-0593-49c9-9f4b-e4d7cc113b1c",
        "rgb": [
         252,
         252,
         252
        ]
       },
       "31af15d2-7e15-44c5-ab5e-e04b16a89eff": {
        "id": "31af15d2-7e15-44c5-ab5e-e04b16a89eff",
        "rgb": [
         68,
         68,
         68
        ]
       },
       "50f92c45-a630-455b-aec3-788680ec7410": {
        "id": "50f92c45-a630-455b-aec3-788680ec7410",
        "rgb": [
         197,
         226,
         245
        ]
       },
       "c5cc3653-2ee1-402a-aba2-7caae1da4f6c": {
        "id": "c5cc3653-2ee1-402a-aba2-7caae1da4f6c",
        "rgb": [
         43,
         126,
         184
        ]
       },
       "efa7f048-9acb-414c-8b04-a26811511a21": {
        "id": "efa7f048-9acb-414c-8b04-a26811511a21",
        "rgb": [
         25.118061674008803,
         73.60176211453744,
         107.4819383259912
        ]
       }
      },
      "rules": {
       "a": {
        "color": "19cc588f-0593-49c9-9f4b-e4d7cc113b1c"
       },
       "blockquote": {
        "color": "50f92c45-a630-455b-aec3-788680ec7410",
        "font-size": 3
       },
       "code": {
        "font-family": "Anonymous Pro"
       },
       "h1": {
        "color": "19cc588f-0593-49c9-9f4b-e4d7cc113b1c",
        "font-family": "Merriweather",
        "font-size": 8
       },
       "h2": {
        "color": "19cc588f-0593-49c9-9f4b-e4d7cc113b1c",
        "font-family": "Merriweather",
        "font-size": 6
       },
       "h3": {
        "color": "50f92c45-a630-455b-aec3-788680ec7410",
        "font-family": "Lato",
        "font-size": 5.5
       },
       "h4": {
        "color": "c5cc3653-2ee1-402a-aba2-7caae1da4f6c",
        "font-family": "Lato",
        "font-size": 5
       },
       "h5": {
        "font-family": "Lato"
       },
       "h6": {
        "font-family": "Lato"
       },
       "h7": {
        "font-family": "Lato"
       },
       "li": {
        "color": "50f92c45-a630-455b-aec3-788680ec7410",
        "font-size": 3.25
       },
       "pre": {
        "font-family": "Anonymous Pro",
        "font-size": 4
       }
      },
      "text-base": {
       "color": "19cc588f-0593-49c9-9f4b-e4d7cc113b1c",
       "font-family": "Lato",
       "font-size": 4
      }
     },
     "870622fb-0a9f-4a9f-9d04-a55735a537a8": {
      "id": "870622fb-0a9f-4a9f-9d04-a55735a537a8",
      "palette": {
       "19cc588f-0593-49c9-9f4b-e4d7cc113b1c": {
        "id": "19cc588f-0593-49c9-9f4b-e4d7cc113b1c",
        "rgb": [
         252,
         252,
         252
        ]
       },
       "31af15d2-7e15-44c5-ab5e-e04b16a89eff": {
        "id": "31af15d2-7e15-44c5-ab5e-e04b16a89eff",
        "rgb": [
         68,
         68,
         68
        ]
       },
       "50f92c45-a630-455b-aec3-788680ec7410": {
        "id": "50f92c45-a630-455b-aec3-788680ec7410",
        "rgb": [
         155,
         177,
         192
        ]
       },
       "c5cc3653-2ee1-402a-aba2-7caae1da4f6c": {
        "id": "c5cc3653-2ee1-402a-aba2-7caae1da4f6c",
        "rgb": [
         43,
         126,
         184
        ]
       },
       "efa7f048-9acb-414c-8b04-a26811511a21": {
        "id": "efa7f048-9acb-414c-8b04-a26811511a21",
        "rgb": [
         25.118061674008803,
         73.60176211453744,
         107.4819383259912
        ]
       }
      },
      "rules": {
       "blockquote": {
        "color": "50f92c45-a630-455b-aec3-788680ec7410"
       },
       "code": {
        "font-family": "Anonymous Pro"
       },
       "h1": {
        "color": "c5cc3653-2ee1-402a-aba2-7caae1da4f6c",
        "font-family": "Lato",
        "font-size": 8
       },
       "h2": {
        "color": "c5cc3653-2ee1-402a-aba2-7caae1da4f6c",
        "font-family": "Lato",
        "font-size": 6
       },
       "h3": {
        "color": "50f92c45-a630-455b-aec3-788680ec7410",
        "font-family": "Lato",
        "font-size": 5.5
       },
       "h4": {
        "color": "c5cc3653-2ee1-402a-aba2-7caae1da4f6c",
        "font-family": "Lato",
        "font-size": 5
       },
       "h5": {
        "font-family": "Lato"
       },
       "h6": {
        "font-family": "Lato"
       },
       "h7": {
        "font-family": "Lato"
       },
       "pre": {
        "font-family": "Anonymous Pro",
        "font-size": 4
       }
      },
      "text-base": {
       "font-family": "Merriweather",
       "font-size": 4
      }
     }
    }
   }
  }
 },
 "nbformat": 4,
 "nbformat_minor": 1
}

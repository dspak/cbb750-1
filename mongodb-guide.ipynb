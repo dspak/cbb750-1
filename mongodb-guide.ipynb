{
 "cells": [
  {
   "cell_type": "markdown",
   "metadata": {},
   "source": [
    "<h1>Start MongoDB</h1>"
   ]
  },
  {
   "cell_type": "markdown",
   "metadata": {},
   "source": [
    "To launch the MongoDB server, run <tt>mongod</tt>. (Note: there is no \"b\" at the end.) Use the optional <tt>dbpath</tt> argument to specify the path for storing files:<br/>\n",
    "<center>\n",
    "<tt>mongod --dbpath=/Users/ramcdougal/mongodbdata</tt>\n",
    "</center><br/>\n",
    "Note: run this command from the console; do not run it from inside Python.<br/><br/>\n",
    "On Windows, the default path is <tt>\"C:\\Program Files\\MongoDB\\Server\\3.4\\bin\\mongod.exe\"</tt>\n",
    "<br/><br/>\n",
    "Basic information on your local MongoDB server is available at <a href=\"http://localhost:28017/\">http://localhost:28017/</a> (The port number here is 1000 more than the port for programmatically connecting to the database endpoint.) To enable a richer RESTful web interface add <tt>--rest</tt> to the command to launch MongoDB. Note that if this port is not firewalled, this is a potential security vulnerability."
   ]
  },
  {
   "cell_type": "markdown",
   "metadata": {},
   "source": [
    "<h1>Connect to MongoDB</h1>"
   ]
  },
  {
   "cell_type": "code",
   "execution_count": 1,
   "metadata": {
    "collapsed": false
   },
   "outputs": [],
   "source": [
    "from pymongo import MongoClient\n",
    "mongodb = MongoClient()         # can pass in a mongodb:// URL to connect to a server on a different machine"
   ]
  },
  {
   "cell_type": "markdown",
   "metadata": {},
   "source": [
    "<h1>Create your first database</h1>"
   ]
  },
  {
   "cell_type": "code",
   "execution_count": 2,
   "metadata": {
    "collapsed": false
   },
   "outputs": [],
   "source": [
    "test = mongodb.test"
   ]
  },
  {
   "cell_type": "markdown",
   "metadata": {},
   "source": [
    "Alternatively, to create a database with a name that would be invalid Python (e.g. beginning with a number), you can use:"
   ]
  },
  {
   "cell_type": "code",
   "execution_count": 3,
   "metadata": {
    "collapsed": false
   },
   "outputs": [],
   "source": [
    "test = mongodb['test']"
   ]
  },
  {
   "cell_type": "markdown",
   "metadata": {},
   "source": [
    "If you need to authenticate (and in a production environment, your databases should be password protected at least for writing), now is the time:"
   ]
  },
  {
   "cell_type": "code",
   "execution_count": 7,
   "metadata": {
    "collapsed": false
   },
   "outputs": [],
   "source": [
    "test.authenticate('username', 'password')"
   ]
  },
  {
   "cell_type": "markdown",
   "metadata": {},
   "source": [
    "An invalid authentication attemp will raise a <tt>pymongo.errors.OperationFailure</tt> exception."
   ]
  },
  {
   "cell_type": "markdown",
   "metadata": {},
   "source": [
    "If for some reason, you want to drop (delete) an entire database, use:"
   ]
  },
  {
   "cell_type": "code",
   "execution_count": 4,
   "metadata": {
    "collapsed": false
   },
   "outputs": [],
   "source": [
    "mongodb.drop_database('test')"
   ]
  },
  {
   "cell_type": "markdown",
   "metadata": {},
   "source": [
    "<h1>Create a collection</h1>"
   ]
  },
  {
   "cell_type": "markdown",
   "metadata": {},
   "source": [
    "Like a database, a collection can be created inside a database by simply referring to its name:"
   ]
  },
  {
   "cell_type": "code",
   "execution_count": 5,
   "metadata": {
    "collapsed": false
   },
   "outputs": [],
   "source": [
    "sciencedb = mongodb.sciencedb # this creates a new database called sciencedb"
   ]
  },
  {
   "cell_type": "code",
   "execution_count": 32,
   "metadata": {
    "collapsed": false
   },
   "outputs": [],
   "source": [
    "cells = sciencedb.cells # or sciencedb['cells']"
   ]
  },
  {
   "cell_type": "markdown",
   "metadata": {},
   "source": [
    "Since mongodb is schemaless, there is no more information to give."
   ]
  },
  {
   "cell_type": "markdown",
   "metadata": {},
   "source": [
    "<h1>Adding data to a collection</h1>"
   ]
  },
  {
   "cell_type": "markdown",
   "metadata": {},
   "source": [
    "Use <tt>insert_one</tt> or <tt>insert_many</tt> to insert one or many documents into a collection (older versions of pymongo used <tt>insert</tt> for both of these, but this is deprecated):"
   ]
  },
  {
   "cell_type": "code",
   "execution_count": 33,
   "metadata": {
    "collapsed": false
   },
   "outputs": [
    {
     "data": {
      "text/plain": [
       "<pymongo.results.InsertOneResult at 0x106c708c0>"
      ]
     },
     "execution_count": 33,
     "metadata": {},
     "output_type": "execute_result"
    }
   ],
   "source": [
    "cells.insert_one({\n",
    "                  'name': 'Hippocampus CA1 pyramidal cell',\n",
    "                  'channels': ['I Na,t', 'I Na,p', 'I Potassium', 'I A', 'I K', 'I M',\n",
    "                               'I L high threshold', 'I N', 'I T low threshold', 'I p,q',\n",
    "                               'I K,Ca', 'I h'],\n",
    "                  'transmitters': ['NO', 'Glutamate'],\n",
    "                  'average dendrite length': 4586\n",
    "              })"
   ]
  },
  {
   "cell_type": "code",
   "execution_count": 34,
   "metadata": {
    "collapsed": false
   },
   "outputs": [],
   "source": [
    "insert_result = cells.insert_many([\n",
    "                 {\n",
    "                      'name': 'Dentate Gyrus granule cell',\n",
    "                      'average dendrite length': 3500,\n",
    "                      'excitatory': True,\n",
    "                      'channels': ['I Na,t', 'I Na,p', 'I A', 'I K', 'I L high threshold',\n",
    "                                   'I N', 'I T low threshold', 'I K,Ca', 'I h'],\n",
    "                      'transmitters': ['Dynorphin', 'Zn2+', 'Glutamate'],\n",
    "                 },\n",
    "                 {\n",
    "                      'name': 'Olfactory granule cell',\n",
    "                      'average dendrite length': 1000,   # I made this up completely, please don't quote any of these\n",
    "                      'excitatory': False,\n",
    "                      'channels': ['I A', 'I N', 'I T low threshold', 'I p,q', 'I CAN', 'I h'],\n",
    "                      'transmitters': ['NO', 'Gaba'],\n",
    "                      'region': 'olfactory bulb'\n",
    "                 }\n",
    "              ])"
   ]
  },
  {
   "cell_type": "code",
   "execution_count": 35,
   "metadata": {
    "collapsed": false
   },
   "outputs": [
    {
     "data": {
      "text/plain": [
       "[ObjectId('58895b2963174846297ca8ec'), ObjectId('58895b2963174846297ca8ed')]"
      ]
     },
     "execution_count": 35,
     "metadata": {},
     "output_type": "execute_result"
    }
   ],
   "source": [
    "insert_result.inserted_ids"
   ]
  },
  {
   "cell_type": "markdown",
   "metadata": {},
   "source": [
    "Note that <tt>insert_one</tt> and <tt>insert_many</tt> return an object which contains the id of the newly created document(s). An <tt>id</tt> may also be specified by including an <tt>_id</tt> key in the dictionary. (Note the underscore.)<br/><br/>We have thus now defined a total of <tt>cells.count()</tt> documents (cells)."
   ]
  },
  {
   "cell_type": "code",
   "execution_count": 36,
   "metadata": {
    "collapsed": false
   },
   "outputs": [
    {
     "data": {
      "text/plain": [
       "3"
      ]
     },
     "execution_count": 36,
     "metadata": {},
     "output_type": "execute_result"
    }
   ],
   "source": [
    "cells.count()"
   ]
  },
  {
   "cell_type": "markdown",
   "metadata": {},
   "source": [
    "<h1>Indexes and uniqueness</h1>"
   ]
  },
  {
   "cell_type": "markdown",
   "metadata": {},
   "source": [
    "To speed up searches, we can define an index:"
   ]
  },
  {
   "cell_type": "code",
   "execution_count": 37,
   "metadata": {
    "collapsed": false
   },
   "outputs": [
    {
     "data": {
      "text/plain": [
       "u'name_1'"
      ]
     },
     "execution_count": 37,
     "metadata": {},
     "output_type": "execute_result"
    }
   ],
   "source": [
    "cells.create_index('name', unique=True)"
   ]
  },
  {
   "cell_type": "markdown",
   "metadata": {},
   "source": [
    "The <tt>unique=True</tt> here ensures that there is only one cell in the database with a given name. Attempting to add another e.g. Hippocampus CA1 pyramidal cell will raise a <tt>pymongo.errors.DuplicateKeyError</tt> Exception:"
   ]
  },
  {
   "cell_type": "code",
   "execution_count": 38,
   "metadata": {
    "collapsed": false
   },
   "outputs": [
    {
     "ename": "DuplicateKeyError",
     "evalue": "E11000 duplicate key error collection: sciencedb.cells index: name_1 dup key: { : \"Hippocampus CA1 pyramidal cell\" }",
     "output_type": "error",
     "traceback": [
      "\u001b[0;31m---------------------------------------------------------------------------\u001b[0m",
      "\u001b[0;31mDuplicateKeyError\u001b[0m                         Traceback (most recent call last)",
      "\u001b[0;32m<ipython-input-38-8c65daeda28d>\u001b[0m in \u001b[0;36m<module>\u001b[0;34m()\u001b[0m\n\u001b[1;32m      1\u001b[0m cells.insert_one({\n\u001b[1;32m      2\u001b[0m                   \u001b[0;34m'name'\u001b[0m\u001b[0;34m:\u001b[0m \u001b[0;34m'Hippocampus CA1 pyramidal cell'\u001b[0m\u001b[0;34m,\u001b[0m\u001b[0;34m\u001b[0m\u001b[0m\n\u001b[0;32m----> 3\u001b[0;31m                   \u001b[0;34m'average dendrite length'\u001b[0m\u001b[0;34m:\u001b[0m \u001b[0;36m4586\u001b[0m\u001b[0;34m\u001b[0m\u001b[0m\n\u001b[0m\u001b[1;32m      4\u001b[0m               })\n",
      "\u001b[0;32m//anaconda/lib/python2.7/site-packages/pymongo/collection.pyc\u001b[0m in \u001b[0;36minsert_one\u001b[0;34m(self, document, bypass_document_validation)\u001b[0m\n\u001b[1;32m    628\u001b[0m             return InsertOneResult(\n\u001b[1;32m    629\u001b[0m                 self._insert(sock_info, document,\n\u001b[0;32m--> 630\u001b[0;31m                              bypass_doc_val=bypass_document_validation),\n\u001b[0m\u001b[1;32m    631\u001b[0m                 self.write_concern.acknowledged)\n\u001b[1;32m    632\u001b[0m \u001b[0;34m\u001b[0m\u001b[0m\n",
      "\u001b[0;32m//anaconda/lib/python2.7/site-packages/pymongo/collection.pyc\u001b[0m in \u001b[0;36m_insert\u001b[0;34m(self, sock_info, docs, ordered, check_keys, manipulate, write_concern, op_id, bypass_doc_val)\u001b[0m\n\u001b[1;32m    533\u001b[0m             return self._insert_one(\n\u001b[1;32m    534\u001b[0m                 \u001b[0msock_info\u001b[0m\u001b[0;34m,\u001b[0m \u001b[0mdocs\u001b[0m\u001b[0;34m,\u001b[0m \u001b[0mordered\u001b[0m\u001b[0;34m,\u001b[0m\u001b[0;34m\u001b[0m\u001b[0m\n\u001b[0;32m--> 535\u001b[0;31m                 check_keys, manipulate, write_concern, op_id, bypass_doc_val)\n\u001b[0m\u001b[1;32m    536\u001b[0m \u001b[0;34m\u001b[0m\u001b[0m\n\u001b[1;32m    537\u001b[0m         \u001b[0mids\u001b[0m \u001b[0;34m=\u001b[0m \u001b[0;34m[\u001b[0m\u001b[0;34m]\u001b[0m\u001b[0;34m\u001b[0m\u001b[0m\n",
      "\u001b[0;32m//anaconda/lib/python2.7/site-packages/pymongo/collection.pyc\u001b[0m in \u001b[0;36m_insert_one\u001b[0;34m(self, sock_info, doc, ordered, check_keys, manipulate, write_concern, op_id, bypass_doc_val)\u001b[0m\n\u001b[1;32m    515\u001b[0m                 \u001b[0mcodec_options\u001b[0m\u001b[0;34m=\u001b[0m\u001b[0mself\u001b[0m\u001b[0;34m.\u001b[0m\u001b[0m__write_response_codec_options\u001b[0m\u001b[0;34m,\u001b[0m\u001b[0;34m\u001b[0m\u001b[0m\n\u001b[1;32m    516\u001b[0m                 check_keys=check_keys)\n\u001b[0;32m--> 517\u001b[0;31m             \u001b[0m_check_write_command_response\u001b[0m\u001b[0;34m(\u001b[0m\u001b[0;34m[\u001b[0m\u001b[0;34m(\u001b[0m\u001b[0;36m0\u001b[0m\u001b[0;34m,\u001b[0m \u001b[0mresult\u001b[0m\u001b[0;34m)\u001b[0m\u001b[0;34m]\u001b[0m\u001b[0;34m)\u001b[0m\u001b[0;34m\u001b[0m\u001b[0m\n\u001b[0m\u001b[1;32m    518\u001b[0m         \u001b[0;32melse\u001b[0m\u001b[0;34m:\u001b[0m\u001b[0;34m\u001b[0m\u001b[0m\n\u001b[1;32m    519\u001b[0m             \u001b[0;31m# Legacy OP_INSERT.\u001b[0m\u001b[0;34m\u001b[0m\u001b[0;34m\u001b[0m\u001b[0m\n",
      "\u001b[0;32m//anaconda/lib/python2.7/site-packages/pymongo/helpers.pyc\u001b[0m in \u001b[0;36m_check_write_command_response\u001b[0;34m(results)\u001b[0m\n\u001b[1;32m    307\u001b[0m             \u001b[0merror\u001b[0m\u001b[0;34m[\u001b[0m\u001b[0;34m\"index\"\u001b[0m\u001b[0;34m]\u001b[0m \u001b[0;34m+=\u001b[0m \u001b[0moffset\u001b[0m\u001b[0;34m\u001b[0m\u001b[0m\n\u001b[1;32m    308\u001b[0m             \u001b[0;32mif\u001b[0m \u001b[0merror\u001b[0m\u001b[0;34m.\u001b[0m\u001b[0mget\u001b[0m\u001b[0;34m(\u001b[0m\u001b[0;34m\"code\"\u001b[0m\u001b[0;34m)\u001b[0m \u001b[0;34m==\u001b[0m \u001b[0;36m11000\u001b[0m\u001b[0;34m:\u001b[0m\u001b[0;34m\u001b[0m\u001b[0m\n\u001b[0;32m--> 309\u001b[0;31m                 \u001b[0;32mraise\u001b[0m \u001b[0mDuplicateKeyError\u001b[0m\u001b[0;34m(\u001b[0m\u001b[0merror\u001b[0m\u001b[0;34m.\u001b[0m\u001b[0mget\u001b[0m\u001b[0;34m(\u001b[0m\u001b[0;34m\"errmsg\"\u001b[0m\u001b[0;34m)\u001b[0m\u001b[0;34m,\u001b[0m \u001b[0;36m11000\u001b[0m\u001b[0;34m,\u001b[0m \u001b[0merror\u001b[0m\u001b[0;34m)\u001b[0m\u001b[0;34m\u001b[0m\u001b[0m\n\u001b[0m\u001b[1;32m    310\u001b[0m             \u001b[0;32mraise\u001b[0m \u001b[0mWriteError\u001b[0m\u001b[0;34m(\u001b[0m\u001b[0merror\u001b[0m\u001b[0;34m.\u001b[0m\u001b[0mget\u001b[0m\u001b[0;34m(\u001b[0m\u001b[0;34m\"errmsg\"\u001b[0m\u001b[0;34m)\u001b[0m\u001b[0;34m,\u001b[0m \u001b[0merror\u001b[0m\u001b[0;34m.\u001b[0m\u001b[0mget\u001b[0m\u001b[0;34m(\u001b[0m\u001b[0;34m\"code\"\u001b[0m\u001b[0;34m)\u001b[0m\u001b[0;34m,\u001b[0m \u001b[0merror\u001b[0m\u001b[0;34m)\u001b[0m\u001b[0;34m\u001b[0m\u001b[0m\n\u001b[1;32m    311\u001b[0m         \u001b[0;32melse\u001b[0m\u001b[0;34m:\u001b[0m\u001b[0;34m\u001b[0m\u001b[0m\n",
      "\u001b[0;31mDuplicateKeyError\u001b[0m: E11000 duplicate key error collection: sciencedb.cells index: name_1 dup key: { : \"Hippocampus CA1 pyramidal cell\" }"
     ]
    }
   ],
   "source": [
    "cells.insert_one({\n",
    "                  'name': 'Hippocampus CA1 pyramidal cell',\n",
    "                  'average dendrite length': 4586\n",
    "              })"
   ]
  },
  {
   "cell_type": "markdown",
   "metadata": {},
   "source": [
    "<h1>Querying</h1>"
   ]
  },
  {
   "cell_type": "code",
   "execution_count": 39,
   "metadata": {
    "collapsed": false
   },
   "outputs": [
    {
     "name": "stdout",
     "output_type": "stream",
     "text": [
      "{u'_id': ObjectId('58895b2863174846297ca8eb'),\n",
      " u'average dendrite length': 4586,\n",
      " u'channels': [u'I Na,t',\n",
      "               u'I Na,p',\n",
      "               u'I Potassium',\n",
      "               u'I A',\n",
      "               u'I K',\n",
      "               u'I M',\n",
      "               u'I L high threshold',\n",
      "               u'I N',\n",
      "               u'I T low threshold',\n",
      "               u'I p,q',\n",
      "               u'I K,Ca',\n",
      "               u'I h'],\n",
      " u'name': u'Hippocampus CA1 pyramidal cell',\n",
      " u'transmitters': [u'NO', u'Glutamate']}\n"
     ]
    }
   ],
   "source": [
    "from pprint import pprint\n",
    "for doc in cells.find({'name': 'Hippocampus CA1 pyramidal cell'}):\n",
    "    pprint(doc)"
   ]
  },
  {
   "cell_type": "markdown",
   "metadata": {},
   "source": [
    "If we know there is only one match (or if all we need is one), we can use <tt>find_one</tt> instead and then no iteration is necessary:"
   ]
  },
  {
   "cell_type": "code",
   "execution_count": 40,
   "metadata": {
    "collapsed": false
   },
   "outputs": [
    {
     "name": "stdout",
     "output_type": "stream",
     "text": [
      "{u'_id': ObjectId('58895b2963174846297ca8ed'),\n",
      " u'average dendrite length': 1000,\n",
      " u'channels': [u'I A',\n",
      "               u'I N',\n",
      "               u'I T low threshold',\n",
      "               u'I p,q',\n",
      "               u'I CAN',\n",
      "               u'I h'],\n",
      " u'excitatory': False,\n",
      " u'name': u'Olfactory granule cell',\n",
      " u'region': u'olfactory bulb',\n",
      " u'transmitters': [u'NO', u'Gaba']}\n"
     ]
    }
   ],
   "source": [
    "pprint(cells.find_one({'transmitters': 'Gaba'}))"
   ]
  },
  {
   "cell_type": "markdown",
   "metadata": {},
   "source": [
    "Note that the search found Gaba as one of multiple transmitters. We can perform more complicated queries using <tt>\\$and</tt>, <tt>\\$or</tt>, <tt>\\$not</tt>, <tt>\\$gt</tt>, <tt>\\$in</tt>, <tt>\\$regex</tt> and other <a href=\"https://docs.mongodb.com/manual/reference/operator/query/\">operators</a>."
   ]
  },
  {
   "cell_type": "code",
   "execution_count": 41,
   "metadata": {
    "collapsed": false
   },
   "outputs": [
    {
     "name": "stdout",
     "output_type": "stream",
     "text": [
      "{u'_id': ObjectId('58895b2863174846297ca8eb'),\n",
      " u'average dendrite length': 4586,\n",
      " u'channels': [u'I Na,t',\n",
      "               u'I Na,p',\n",
      "               u'I Potassium',\n",
      "               u'I A',\n",
      "               u'I K',\n",
      "               u'I M',\n",
      "               u'I L high threshold',\n",
      "               u'I N',\n",
      "               u'I T low threshold',\n",
      "               u'I p,q',\n",
      "               u'I K,Ca',\n",
      "               u'I h'],\n",
      " u'name': u'Hippocampus CA1 pyramidal cell',\n",
      " u'transmitters': [u'NO', u'Glutamate']}\n",
      "{u'_id': ObjectId('58895b2963174846297ca8ec'),\n",
      " u'average dendrite length': 3500,\n",
      " u'channels': [u'I Na,t',\n",
      "               u'I Na,p',\n",
      "               u'I A',\n",
      "               u'I K',\n",
      "               u'I L high threshold',\n",
      "               u'I N',\n",
      "               u'I T low threshold',\n",
      "               u'I K,Ca',\n",
      "               u'I h'],\n",
      " u'excitatory': True,\n",
      " u'name': u'Dentate Gyrus granule cell',\n",
      " u'transmitters': [u'Dynorphin', u'Zn2+', u'Glutamate']}\n"
     ]
    }
   ],
   "source": [
    "for doc in cells.find({'$and': [{'channels': 'I A'}, {'channels': 'I L high threshold'}]}):\n",
    "    pprint(doc)"
   ]
  },
  {
   "cell_type": "markdown",
   "metadata": {},
   "source": [
    "<h3>Example of searching for numeric matches in interval:</h3>"
   ]
  },
  {
   "cell_type": "code",
   "execution_count": 42,
   "metadata": {
    "collapsed": false
   },
   "outputs": [
    {
     "name": "stdout",
     "output_type": "stream",
     "text": [
      "{u'_id': ObjectId('58895b2963174846297ca8ed'),\n",
      " u'average dendrite length': 1000,\n",
      " u'channels': [u'I A',\n",
      "               u'I N',\n",
      "               u'I T low threshold',\n",
      "               u'I p,q',\n",
      "               u'I CAN',\n",
      "               u'I h'],\n",
      " u'excitatory': False,\n",
      " u'name': u'Olfactory granule cell',\n",
      " u'region': u'olfactory bulb',\n",
      " u'transmitters': [u'NO', u'Gaba']}\n"
     ]
    }
   ],
   "source": [
    "for doc in cells.find({'average dendrite length': {'$lt': 2000}}):\n",
    "    pprint(doc)"
   ]
  },
  {
   "cell_type": "markdown",
   "metadata": {},
   "source": [
    "<h3>Getting distinct results</h3>"
   ]
  },
  {
   "cell_type": "markdown",
   "metadata": {},
   "source": [
    "To gather the distinct entries of a field from any search results, use <tt>.distinct</tt>"
   ]
  },
  {
   "cell_type": "code",
   "execution_count": 43,
   "metadata": {
    "collapsed": false
   },
   "outputs": [
    {
     "data": {
      "text/plain": [
       "[u'I A',\n",
       " u'I K',\n",
       " u'I K,Ca',\n",
       " u'I L high threshold',\n",
       " u'I M',\n",
       " u'I N',\n",
       " u'I Na,p',\n",
       " u'I Na,t',\n",
       " u'I Potassium',\n",
       " u'I T low threshold',\n",
       " u'I h',\n",
       " u'I p,q',\n",
       " u'I CAN']"
      ]
     },
     "execution_count": 43,
     "metadata": {},
     "output_type": "execute_result"
    }
   ],
   "source": [
    "cells.find().distinct('channels')"
   ]
  },
  {
   "cell_type": "markdown",
   "metadata": {},
   "source": [
    "<h3>Sorting results</h3>"
   ]
  },
  {
   "cell_type": "markdown",
   "metadata": {},
   "source": [
    "We can sort the results of a search based on a field or fields. We use 1 to indicate ascending order, -1 to indicate descending order."
   ]
  },
  {
   "cell_type": "code",
   "execution_count": 44,
   "metadata": {
    "collapsed": false
   },
   "outputs": [
    {
     "name": "stdout",
     "output_type": "stream",
     "text": [
      "Olfactory granule cell               1000\n",
      "Dentate Gyrus granule cell           3500\n",
      "Hippocampus CA1 pyramidal cell       4586\n"
     ]
    }
   ],
   "source": [
    "for cell in cells.find().sort([('average dendrite length', 1)]):\n",
    "    print '{:35s} {:5d}'.format(cell['name'], cell['average dendrite length'])"
   ]
  },
  {
   "cell_type": "code",
   "execution_count": 45,
   "metadata": {
    "collapsed": false
   },
   "outputs": [
    {
     "name": "stdout",
     "output_type": "stream",
     "text": [
      "Hippocampus CA1 pyramidal cell       4586\n",
      "Dentate Gyrus granule cell           3500\n",
      "Olfactory granule cell               1000\n"
     ]
    }
   ],
   "source": [
    "for cell in cells.find().sort([('average dendrite length', -1)]):\n",
    "    print '{:35s} {:5d}'.format(cell['name'], cell['average dendrite length'])"
   ]
  },
  {
   "cell_type": "markdown",
   "metadata": {},
   "source": [
    "Part of the reason that this works is that the queries don't return a list; they return a <b>cursor</b> object which allows extracting part of the results."
   ]
  },
  {
   "cell_type": "code",
   "execution_count": 46,
   "metadata": {
    "collapsed": false
   },
   "outputs": [
    {
     "data": {
      "text/plain": [
       "pymongo.cursor.Cursor"
      ]
     },
     "execution_count": 46,
     "metadata": {},
     "output_type": "execute_result"
    }
   ],
   "source": [
    "type(cells.find())"
   ]
  },
  {
   "cell_type": "markdown",
   "metadata": {},
   "source": [
    "This doesn't stop you, however from grabbing a specific item or slice. This is most useful, for example, if in the above we only wanted to receive (from the database) the 2 cells with the longest combined dendritic length. Unlike if a list was sent, using a cursor means no additional data would be sent, so we don't have to deal with bandwidth or sorting it on our local machine. We can also use this to <b>page</b> the results."
   ]
  },
  {
   "cell_type": "code",
   "execution_count": 47,
   "metadata": {
    "collapsed": false
   },
   "outputs": [
    {
     "name": "stdout",
     "output_type": "stream",
     "text": [
      "Hippocampus CA1 pyramidal cell\n",
      "Dentate Gyrus granule cell\n"
     ]
    }
   ],
   "source": [
    "for cell in cells.find().sort([('average dendrite length', -1)])[:2]:\n",
    "    print cell['name']"
   ]
  },
  {
   "cell_type": "markdown",
   "metadata": {},
   "source": [
    "<h1>Update</h1>"
   ]
  },
  {
   "cell_type": "markdown",
   "metadata": {},
   "source": [
    "<h3>Basic use</h3>"
   ]
  },
  {
   "cell_type": "markdown",
   "metadata": {},
   "source": [
    "Let's declare a region for the cells in the hippocampus, which here we'll select with a regular expression:"
   ]
  },
  {
   "cell_type": "code",
   "execution_count": 60,
   "metadata": {
    "collapsed": false
   },
   "outputs": [
    {
     "data": {
      "text/plain": [
       "<pymongo.results.UpdateResult at 0x106cbee60>"
      ]
     },
     "execution_count": 60,
     "metadata": {},
     "output_type": "execute_result"
    }
   ],
   "source": [
    "cells.update_many({'name': {'$regex': '(Hippocampus|Dentate)'}},\n",
    "                  {'$set': {'region': 'hippocampus'}})"
   ]
  },
  {
   "cell_type": "markdown",
   "metadata": {},
   "source": [
    "There is also an <tt>upsert</tt> command that updates entries if it finds a matching one or inserts a new entry if no matching one already exists."
   ]
  },
  {
   "cell_type": "markdown",
   "metadata": {},
   "source": [
    "<h3>Numeric updates</h3> "
   ]
  },
  {
   "cell_type": "markdown",
   "metadata": {},
   "source": [
    "Suppose for some reason we wanted to convert all dendritic lengths from microns to mm; that is we must multiply them by 0.001. Fortunately, MongoDB provides <a href=\"https://docs.mongodb.com/manual/reference/operator/update-field/\">quantitative</a> update operators such as \\$inc and \\$mul. "
   ]
  },
  {
   "cell_type": "code",
   "execution_count": 62,
   "metadata": {
    "collapsed": false
   },
   "outputs": [
    {
     "data": {
      "text/plain": [
       "<pymongo.results.UpdateResult at 0x106ceea00>"
      ]
     },
     "execution_count": 62,
     "metadata": {},
     "output_type": "execute_result"
    }
   ],
   "source": [
    "cells.update_many({},\n",
    "                 {'$mul': {'average dendrite length': 0.001}})"
   ]
  },
  {
   "cell_type": "markdown",
   "metadata": {},
   "source": [
    "Let's see the results:"
   ]
  },
  {
   "cell_type": "code",
   "execution_count": 71,
   "metadata": {
    "collapsed": false
   },
   "outputs": [
    {
     "name": "stdout",
     "output_type": "stream",
     "text": [
      "Hippocampus CA1 pyramidal cell         4.586 mm\n",
      "Dentate Gyrus granule cell               3.5 mm\n",
      "Olfactory granule cell                     1 mm\n"
     ]
    }
   ],
   "source": [
    "for cell in cells.find():\n",
    "    print '{:35s} {:8g} mm'.format(cell['name'], cell['average dendrite length'])"
   ]
  },
  {
   "cell_type": "markdown",
   "metadata": {},
   "source": [
    "<h1>Joining documents</h1>"
   ]
  },
  {
   "cell_type": "markdown",
   "metadata": {},
   "source": [
    "Let's add a new collection:"
   ]
  },
  {
   "cell_type": "code",
   "execution_count": 72,
   "metadata": {
    "collapsed": false
   },
   "outputs": [
    {
     "data": {
      "text/plain": [
       "<pymongo.results.InsertManyResult at 0x106cbed20>"
      ]
     },
     "execution_count": 72,
     "metadata": {},
     "output_type": "execute_result"
    }
   ],
   "source": [
    "sciencedb.functions.insert_many([\n",
    "    {\n",
    "        'name': 'olfactory bulb',\n",
    "        'function': 'olfaction'\n",
    "    },\n",
    "    {\n",
    "        'name': 'hippocampus',\n",
    "        'function': 'learning and memory'\n",
    "    }])"
   ]
  },
  {
   "cell_type": "code",
   "execution_count": 80,
   "metadata": {
    "collapsed": false
   },
   "outputs": [
    {
     "name": "stdout",
     "output_type": "stream",
     "text": [
      "{u'_id': ObjectId('58895b2863174846297ca8eb'),\n",
      " u'average dendrite length': 4.586,\n",
      " u'cellFunctions': [{u'_id': ObjectId('588960b563174846297ca8f0'),\n",
      "                     u'function': u'learning and memory',\n",
      "                     u'name': u'hippocampus'}],\n",
      " u'channels': [u'I Na,t',\n",
      "               u'I Na,p',\n",
      "               u'I Potassium',\n",
      "               u'I A',\n",
      "               u'I K',\n",
      "               u'I M',\n",
      "               u'I L high threshold',\n",
      "               u'I N',\n",
      "               u'I T low threshold',\n",
      "               u'I p,q',\n",
      "               u'I K,Ca',\n",
      "               u'I h'],\n",
      " u'name': u'Hippocampus CA1 pyramidal cell',\n",
      " u'region': u'hippocampus',\n",
      " u'transmitters': [u'NO', u'Glutamate']}\n"
     ]
    }
   ],
   "source": [
    "for cell in cells.aggregate([\n",
    "        {\n",
    "            '$lookup':\n",
    "            {\n",
    "                'from': 'functions',\n",
    "                'localField': 'region',\n",
    "                'foreignField': 'name',\n",
    "                'as': 'cellFunctions'\n",
    "            }\n",
    "        }\n",
    "    ]):\n",
    "    pprint(cell)\n",
    "    break"
   ]
  },
  {
   "cell_type": "markdown",
   "metadata": {},
   "source": [
    "So what happened here is that the entire function document got embedded into the cell. Sometimes this is what you want. Othertimes you may want to extract just a certain piece of information. To do this use a <b>projection</b>, which will allow you to drop, include, add, or rename fields:"
   ]
  },
  {
   "cell_type": "code",
   "execution_count": 92,
   "metadata": {
    "collapsed": false
   },
   "outputs": [
    {
     "name": "stdout",
     "output_type": "stream",
     "text": [
      "{u'functions': [u'learning and memory'],\n",
      " u'name': u'Hippocampus CA1 pyramidal cell'}\n",
      "{u'functions': [u'learning and memory'],\n",
      " u'name': u'Dentate Gyrus granule cell'}\n",
      "{u'functions': [u'olfaction'], u'name': u'Olfactory granule cell'}\n"
     ]
    }
   ],
   "source": [
    "for cell in cells.aggregate([\n",
    "        {\n",
    "            '$lookup':\n",
    "            {\n",
    "                'from': 'functions',\n",
    "                'localField': 'region',\n",
    "                'foreignField': 'name',\n",
    "                'as': 'cellFunctions'\n",
    "            }\n",
    "        },\n",
    "        {\n",
    "            '$project':\n",
    "            {\n",
    "                '_id': False,\n",
    "                'name': True,\n",
    "                'functions': '$cellFunctions.function'\n",
    "            }\n",
    "        }\n",
    "    ]):\n",
    "    pprint(cell)\n"
   ]
  },
  {
   "cell_type": "markdown",
   "metadata": {},
   "source": [
    "This is a special case of MongoDB's aggregation pipeline which allows you to combine documents, do certain calculations, group data (\\$group), etc. For more, see the <a href=\"http://api.mongodb.com/python/current/examples/aggregation.html\">PyMongo aggregation</a> documentation.<br/><br/>\n",
    "An even more flexible solution is to write your own <tt>map</tt> and <tt>reduce</tt> functions in JavaScript (yes, even though you're otherwise working in Python) and pass them to map_reduce. A simple example is <a href=\"http://api.mongodb.com/python/current/examples/aggregation.html#map-reduce\">here</a>."
   ]
  },
  {
   "cell_type": "markdown",
   "metadata": {},
   "source": [
    "<h1>Deleting documents, etc</h1>"
   ]
  },
  {
   "cell_type": "code",
   "execution_count": 93,
   "metadata": {
    "collapsed": true
   },
   "outputs": [],
   "source": [
    "result = cells.delete_many({'name': {'$regex': 'Dentate'}})"
   ]
  },
  {
   "cell_type": "code",
   "execution_count": 94,
   "metadata": {
    "collapsed": false
   },
   "outputs": [
    {
     "data": {
      "text/plain": [
       "1"
      ]
     },
     "execution_count": 94,
     "metadata": {},
     "output_type": "execute_result"
    }
   ],
   "source": [
    "result.deleted_count"
   ]
  },
  {
   "cell_type": "markdown",
   "metadata": {},
   "source": [
    "There is also a <tt>delete_one</tt> method that deletes only one match.<br/><br/>To delete an entire collection, use, e.g.:"
   ]
  },
  {
   "cell_type": "code",
   "execution_count": 95,
   "metadata": {
    "collapsed": true
   },
   "outputs": [],
   "source": [
    "sciencedb.drop_collection('cells')"
   ]
  },
  {
   "cell_type": "markdown",
   "metadata": {},
   "source": [
    "To delete an entire database, use <tt>drop_database</tt>:"
   ]
  },
  {
   "cell_type": "code",
   "execution_count": 96,
   "metadata": {
    "collapsed": true
   },
   "outputs": [],
   "source": [
    "mongodb.drop_database('sciencedb')"
   ]
  }
 ],
 "metadata": {
  "anaconda-cloud": {},
  "kernelspec": {
   "display_name": "Python [default]",
   "language": "python",
   "name": "python2"
  },
  "language_info": {
   "codemirror_mode": {
    "name": "ipython",
    "version": 2
   },
   "file_extension": ".py",
   "mimetype": "text/x-python",
   "name": "python",
   "nbconvert_exporter": "python",
   "pygments_lexer": "ipython2",
   "version": "2.7.12"
  }
 },
 "nbformat": 4,
 "nbformat_minor": 0
}

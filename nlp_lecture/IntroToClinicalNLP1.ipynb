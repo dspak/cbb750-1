{
 "cells": [
  {
   "cell_type": "markdown",
   "metadata": {
    "nbpresent": {
     "id": "c8b3ec86-ac5d-44c9-a5c5-ea12c7ccb113"
    },
    "slideshow": {
     "slide_type": "slide"
    }
   },
   "source": [
    "# Introduction to Natural Language Processing\n",
    "\n",
    "In this notebook, we'll go over some fundamental NLP concepts and use NLTK to work up to the example in the Nature Reviews article \"Mining electronic health records: towards better research applications and clinical care\""
   ]
  },
  {
   "cell_type": "markdown",
   "metadata": {},
   "source": [
    "## The 20 Newsgroups Corpus\n",
    "\n",
    "**DEF.** A *corpus* is a collection of documents that we mine or retrieve information from.\n",
    "\n",
    "The *20 newsgroups* dataset comprises around 18000 newsgroups posts (an online forum) on 20 topics split in two subsets: one for training (or development) and the other one for testing (or for performance evaluation). The split between the train and test set is based upon a messages posted before and after a specific date.\n",
    "We will focus on the train set for now."
   ]
  },
  {
   "cell_type": "code",
   "execution_count": 33,
   "metadata": {
    "collapsed": false
   },
   "outputs": [
    {
     "name": "stdout",
     "output_type": "stream",
     "text": [
      "2.7.12 |Anaconda custom (64-bit)| (default, Jun 29 2016, 11:07:13) [MSC v.1500 64 bit (AMD64)]\n"
     ]
    }
   ],
   "source": [
    "import sys\n",
    "print sys.version   # check python version; I am using 2.7"
   ]
  },
  {
   "cell_type": "code",
   "execution_count": 34,
   "metadata": {
    "collapsed": false
   },
   "outputs": [],
   "source": [
    "# Get the 20 newsgroups Corpus (just the train set for now)\n",
    "from sklearn.datasets import fetch_20newsgroups\n",
    "news = fetch_20newsgroups(subset='train',\n",
    "                          categories=('rec.autos',\n",
    "                             'rec.motorcycles',\n",
    "                             'rec.sport.baseball',\n",
    "                             'rec.sport.hockey'),\n",
    "                          remove=('headers', 'footers', 'quotes'))"
   ]
  },
  {
   "cell_type": "code",
   "execution_count": 35,
   "metadata": {
    "collapsed": false
   },
   "outputs": [
    {
     "data": {
      "text/plain": [
       "['DESCR', 'data', 'description', 'filenames', 'target', 'target_names']"
      ]
     },
     "execution_count": 35,
     "metadata": {},
     "output_type": "execute_result"
    }
   ],
   "source": [
    "# dir returns a list of the attributes and methods of any object\n",
    "dir(news) "
   ]
  },
  {
   "cell_type": "code",
   "execution_count": 36,
   "metadata": {
    "collapsed": false
   },
   "outputs": [
    {
     "data": {
      "text/plain": [
       "'the 20 newsgroups by date dataset'"
      ]
     },
     "execution_count": 36,
     "metadata": {},
     "output_type": "execute_result"
    }
   ],
   "source": [
    "news.description"
   ]
  },
  {
   "cell_type": "code",
   "execution_count": 37,
   "metadata": {
    "collapsed": false
   },
   "outputs": [
    {
     "data": {
      "text/plain": [
       "['rec.autos', 'rec.motorcycles', 'rec.sport.baseball', 'rec.sport.hockey']"
      ]
     },
     "execution_count": 37,
     "metadata": {},
     "output_type": "execute_result"
    }
   ],
   "source": [
    "news.target_names"
   ]
  },
  {
   "cell_type": "code",
   "execution_count": 38,
   "metadata": {
    "collapsed": false
   },
   "outputs": [
    {
     "data": {
      "text/plain": [
       "u\"Stolen from Pasadena between 4:30 and 6:30 pm on 4/15.\\n\\nBlue and white Honda CBR900RR california plate KG CBR.   Serial number\\nJH2SC281XPM100187, engine number 2101240.\\n\\nNo turn signals or mirrors, lights taped over for track riders session\\nat Willow Springs tomorrow.  Guess I'll miss it.  :-(((\\n\\nHelp me find my baby!!!\""
      ]
     },
     "execution_count": 38,
     "metadata": {},
     "output_type": "execute_result"
    }
   ],
   "source": [
    "news.data[50]"
   ]
  },
  {
   "cell_type": "code",
   "execution_count": 39,
   "metadata": {
    "collapsed": false
   },
   "outputs": [
    {
     "data": {
      "text/plain": [
       "unicode"
      ]
     },
     "execution_count": 39,
     "metadata": {},
     "output_type": "execute_result"
    }
   ],
   "source": [
    "type(news.data[50])"
   ]
  },
  {
   "cell_type": "markdown",
   "metadata": {},
   "source": [
    "**Remark**. Python stores strings in Unicode, which is a multilingual approach to encoding character data."
   ]
  },
  {
   "cell_type": "code",
   "execution_count": 40,
   "metadata": {
    "collapsed": false
   },
   "outputs": [
    {
     "name": "stdout",
     "output_type": "stream",
     "text": [
      "Stolen from Pasadena between 4:30 and 6:30 pm on 4/15.\n",
      "\n",
      "Blue and white Honda CBR900RR california plate KG CBR.   Serial number\n",
      "JH2SC281XPM100187, engine number 2101240.\n",
      "\n",
      "No turn signals or mirrors, lights taped over for track riders session\n",
      "at Willow Springs tomorrow.  Guess I'll miss it.  :-(((\n",
      "\n",
      "Help me find my baby!!!\n"
     ]
    }
   ],
   "source": [
    "print news.data[50]"
   ]
  },
  {
   "cell_type": "code",
   "execution_count": 41,
   "metadata": {
    "collapsed": false
   },
   "outputs": [
    {
     "data": {
      "text/plain": [
       "2389"
      ]
     },
     "execution_count": 41,
     "metadata": {},
     "output_type": "execute_result"
    }
   ],
   "source": [
    "# Exactly how many documents are there?\n",
    "len(news.data)"
   ]
  },
  {
   "cell_type": "markdown",
   "metadata": {
    "nbpresent": {
     "id": "d62a7197-05ea-4ef9-9ad5-f0e9a8c419a3"
    },
    "slideshow": {
     "slide_type": "slide"
    }
   },
   "source": [
    "## Transforming Raw Text into Features\n",
    "\n",
    "**Main Idea**. Transform raw text into *linguistic units*. \n",
    "For example, a sentence is \"a grammatical unit of one or more words that expresses an independent statement, question, request, command, exclamation, etc., and that typically has a subject as well as a predicate, as in 'Bob is here'. or \n",
    "'Is Bob here?'\"\n",
    "\n",
    "We want to find the content within a text by (1) identifying the sentences, (2) getting the content from each sentence, (3) ultimately aggregate the content from each sentence to achieve full understanding of the whole text.\n",
    "\n",
    "**Steps**.\n",
    "\n",
    "    a. Boundary Detection\n",
    "    b. Tokenization\n",
    "    c. Normalization, Stemming, Lemmatization\n",
    "     \n",
    "    d. Part-of-speech tagging\n",
    "    e. Shallow Parsing\n",
    "    f. Entity Recognition\n",
    "\n",
    "See NLTK book, Chapter 7."
   ]
  },
  {
   "cell_type": "code",
   "execution_count": 42,
   "metadata": {
    "collapsed": false
   },
   "outputs": [
    {
     "name": "stdout",
     "output_type": "stream",
     "text": [
      "------------------------------ sentence 0 ------------------------------\n",
      "Stolen from Pasadena between 4:30 and 6:30 pm on 4/15.\n",
      "------------------------------ sentence 1 ------------------------------\n",
      "Blue and white Honda CBR900RR california plate KG CBR.\n",
      "------------------------------ sentence 2 ------------------------------\n",
      "Serial number\n",
      "JH2SC281XPM100187, engine number 2101240.\n",
      "------------------------------ sentence 3 ------------------------------\n",
      "No turn signals or mirrors, lights taped over for track riders session\n",
      "at Willow Springs tomorrow.\n",
      "------------------------------ sentence 4 ------------------------------\n",
      "Guess I'll miss it.\n",
      "------------------------------ sentence 5 ------------------------------\n",
      ":-(((\n",
      "\n",
      "Help me find my baby!!\n",
      "------------------------------ sentence 6 ------------------------------\n",
      "!\n"
     ]
    }
   ],
   "source": [
    "import nltk\n",
    "\n",
    "# Let's play around with the first document for a while\n",
    "doc = news.data[50]\n",
    "\n",
    "# Starting with boundary detection,\n",
    "sents = nltk.sent_tokenize(doc)\n",
    "\n",
    "for i, s in enumerate(sents):\n",
    "    print 30*\"-\", \"sentence %d\" % i, 30*\"-\"\n",
    "    print s"
   ]
  },
  {
   "cell_type": "markdown",
   "metadata": {
    "nbpresent": {
     "id": "c4b045f3-2bd5-402a-897c-6f31a92ca7e1"
    },
    "slideshow": {
     "slide_type": "slide"
    }
   },
   "source": [
    "### Sentence and Word Segmentation, Tokenization\n",
    "\n",
    "**DEF.** A *token* is the technical name for a sequence of characters, e.g. \"sugery\", \"hip\", \"ward\", that we want to treat as a group. "
   ]
  },
  {
   "cell_type": "code",
   "execution_count": 43,
   "metadata": {
    "collapsed": false
   },
   "outputs": [
    {
     "data": {
      "text/plain": [
       "u'No turn signals or mirrors, lights taped over for track riders session\\nat Willow Springs tomorrow.'"
      ]
     },
     "execution_count": 43,
     "metadata": {},
     "output_type": "execute_result"
    }
   ],
   "source": [
    "sent = sents[3]\n",
    "sent"
   ]
  },
  {
   "cell_type": "code",
   "execution_count": 44,
   "metadata": {
    "collapsed": false
   },
   "outputs": [
    {
     "data": {
      "text/plain": [
       "[u'No',\n",
       " u'turn',\n",
       " u'signals',\n",
       " u'or',\n",
       " u'mirrors',\n",
       " u',',\n",
       " u'lights',\n",
       " u'taped',\n",
       " u'over',\n",
       " u'for',\n",
       " u'track',\n",
       " u'riders',\n",
       " u'session',\n",
       " u'at',\n",
       " u'Willow',\n",
       " u'Springs',\n",
       " u'tomorrow',\n",
       " u'.']"
      ]
     },
     "execution_count": 44,
     "metadata": {},
     "output_type": "execute_result"
    }
   ],
   "source": [
    "# Segment the words in sentence with a \"tokenizer\"\n",
    "tokens = nltk.word_tokenize(sent)\n",
    "tokens"
   ]
  },
  {
   "cell_type": "markdown",
   "metadata": {
    "nbpresent": {
     "id": "f7fb5dd4-80dc-4f9d-b79e-b3b85d88ba48"
    },
    "slideshow": {
     "slide_type": "slide"
    }
   },
   "source": [
    "### Normalization and Stemming\n",
    "\n",
    "**DEF.** In many applications, one *normalizes* text to lowercase.\n",
    "\n",
    "**DEF.** The *vocabulary* of a text is the set of (normalized) tokens that it uses."
   ]
  },
  {
   "cell_type": "code",
   "execution_count": 45,
   "metadata": {
    "collapsed": false,
    "nbpresent": {
     "id": "6fb55d7f-7914-481b-a29d-e3bd13d5bd05"
    },
    "slideshow": {
     "slide_type": "subslide"
    }
   },
   "outputs": [
    {
     "name": "stdout",
     "output_type": "stream",
     "text": [
      "\n",
      "Normalized tokens:\n",
      "[u'no', u'turn', u'signals', u'or', u'mirrors', u',', u'lights', u'taped', u'over', u'for', u'track', u'riders', u'session', u'at', u'willow', u'springs', u'tomorrow', u'.']\n",
      "\n",
      "The vocabulary:\n",
      "[u',', u'.', u'at', u'for', u'lights', u'mirrors', u'no', u'or', u'over', u'riders', u'session', u'signals', u'springs', u'taped', u'tomorrow', u'track', u'turn', u'willow']\n"
     ]
    }
   ],
   "source": [
    "# Normalize the tokens\n",
    "normalized_tokens = [t.lower() for t in tokens]\n",
    "print '\\nNormalized tokens:\\n', normalized_tokens\n",
    "\n",
    "# Build the vocabulary\n",
    "vocabulary = sorted(set(normalized_tokens))\n",
    "print '\\nThe vocabulary:\\n', vocabulary"
   ]
  },
  {
   "cell_type": "markdown",
   "metadata": {
    "nbpresent": {
     "id": "69201f3a-2fb3-4ba4-aeba-cbc52dd5f7e7"
    },
    "slideshow": {
     "slide_type": "slide"
    }
   },
   "source": [
    "**DEF.** A next possible step is to *stem* the text by stripping off any affixes.\n",
    "\n",
    "**DEF.** A *lexicon* is a collection of words and/or phrases along with \n",
    "associated information, such as part-of-speech and sense definitions.\n",
    "A lexical entry consists of a *lemma* along with additional information.\n",
    "The step of mapping tokens, normalized tokens, or stemmed tokens\n",
    "to lemmas is called *lemmatization*."
   ]
  },
  {
   "cell_type": "code",
   "execution_count": 46,
   "metadata": {
    "collapsed": false,
    "nbpresent": {
     "id": "4250095f-31e1-42eb-aa38-ae055ab6b97b"
    },
    "slideshow": {
     "slide_type": "subslide"
    }
   },
   "outputs": [
    {
     "name": "stdout",
     "output_type": "stream",
     "text": [
      "[u'No', u'turn', u'signal', u'or', u'mirror', u',', u'light', u'tape', u'over', u'for', u'track', u'rider', u'session', u'at', u'Willow', u'Spring', u'tomorrow', u'.']\n"
     ]
    }
   ],
   "source": [
    "print [nltk.PorterStemmer().stem(t) for t in tokens]"
   ]
  },
  {
   "cell_type": "code",
   "execution_count": 47,
   "metadata": {
    "collapsed": false,
    "nbpresent": {
     "id": "7c569b7f-fcf5-4488-a3ae-a7e62dcf4137"
    },
    "slideshow": {
     "slide_type": "subslide"
    }
   },
   "outputs": [
    {
     "data": {
      "text/plain": [
       "[u'lie', u'lie', u'lay', u'lie', u'lie']"
      ]
     },
     "execution_count": 47,
     "metadata": {},
     "output_type": "execute_result"
    }
   ],
   "source": [
    "# A stemming test\n",
    "example_tokens = ['lie', 'lied', 'lay', 'lies', 'lying']\n",
    "stemmed_tokens = [nltk.PorterStemmer().stem(t) for t in example_tokens]\n",
    "stemmed_tokens"
   ]
  },
  {
   "cell_type": "markdown",
   "metadata": {
    "nbpresent": {
     "id": "a3e854d4-afd1-407b-ad3b-3388adfa5c59"
    },
    "slideshow": {
     "slide_type": "slide"
    }
   },
   "source": [
    "### Descriptive stats with normalized tokens: word frequencies and dispersion plots"
   ]
  },
  {
   "cell_type": "code",
   "execution_count": 48,
   "metadata": {
    "collapsed": false
   },
   "outputs": [],
   "source": [
    "ltokens = [nltk.word_tokenize(doc) for doc in news.data[:500]]\n",
    "# convert list of list of tokens (ltokens) into a list of tokens\n",
    "import itertools\n",
    "tokens_all = list(itertools.chain.from_iterable(ltokens)) "
   ]
  },
  {
   "cell_type": "code",
   "execution_count": 49,
   "metadata": {
    "collapsed": false
   },
   "outputs": [],
   "source": [
    "# convert list of tokens to nltk text object\n",
    "x = nltk.Text(t.lower() for t in tokens_all)"
   ]
  },
  {
   "cell_type": "code",
   "execution_count": 50,
   "metadata": {
    "collapsed": false
   },
   "outputs": [
    {
     "name": "stdout",
     "output_type": "stream",
     "text": [
      "The text comprises 78685 normalized tokens.\n",
      "The first few are [u'my', u'friend', u'brought', u'a', u'subaru', u'svx', u'recently', u'.', u'i', u'had']\n"
     ]
    }
   ],
   "source": [
    "print \"The text comprises %d normalized tokens.\" % len(x)\n",
    "print \"The first few are\", x[:10]"
   ]
  },
  {
   "cell_type": "code",
   "execution_count": 51,
   "metadata": {
    "collapsed": false
   },
   "outputs": [
    {
     "name": "stdout",
     "output_type": "stream",
     "text": [
      "Number of times \"car\" occurs =  84\n",
      "Number of times \"Car\" occurs =  0\n"
     ]
    }
   ],
   "source": [
    "from nltk import FreqDist\n",
    "fdist = FreqDist(x)\n",
    "print 'Number of times \\\"car\\\" occurs = ', fdist['car']\n",
    "print 'Number of times \\\"Car\\\" occurs = ', fdist['Car']"
   ]
  },
  {
   "cell_type": "code",
   "execution_count": 52,
   "metadata": {
    "collapsed": false
   },
   "outputs": [
    {
     "data": {
      "text/plain": [
       "[(u'the', 3354),\n",
       " (u',', 3242),\n",
       " (u'.', 3026),\n",
       " (u'--', 2569),\n",
       " (u'a', 1388),\n",
       " (u'to', 1361),\n",
       " (u'i', 1162),\n",
       " (u'and', 1134),\n",
       " (u'of', 1011),\n",
       " (u')', 968)]"
      ]
     },
     "execution_count": 52,
     "metadata": {},
     "output_type": "execute_result"
    }
   ],
   "source": [
    "fdist.most_common(10)"
   ]
  },
  {
   "cell_type": "code",
   "execution_count": 53,
   "metadata": {
    "collapsed": false
   },
   "outputs": [
    {
     "data": {
      "image/png": "[encoded data removed]",
      "text/plain": [
       "<matplotlib.figure.Figure at 0xad9c240>"
      ]
     },
     "metadata": {},
     "output_type": "display_data"
    }
   ],
   "source": [
    "# Frequency plot of tokens\n",
    "fdist.plot(30) "
   ]
  },
  {
   "cell_type": "code",
   "execution_count": 54,
   "metadata": {
    "collapsed": false
   },
   "outputs": [
    {
     "data": {
      "text/plain": [
       "[u'Do',\n",
       " u\"n't\",\n",
       " u',',\n",
       " u'would',\n",
       " u\"n't\",\n",
       " u'.',\n",
       " u'Sarah',\n",
       " u\"'s\",\n",
       " u'car',\n",
       " u'was',\n",
       " u'stolen',\n",
       " u'.']"
      ]
     },
     "execution_count": 54,
     "metadata": {},
     "output_type": "execute_result"
    }
   ],
   "source": [
    "# x.concordance('n\\'t')\n",
    "nltk.word_tokenize(u\"Don't , wouldn't. Sarah's car was stolen.\")"
   ]
  },
  {
   "cell_type": "code",
   "execution_count": 55,
   "metadata": {
    "collapsed": false,
    "nbpresent": {
     "id": "b6131b1a-8f15-4a18-a761-692195911008"
    },
    "slideshow": {
     "slide_type": "fragment"
    }
   },
   "outputs": [
    {
     "data": {
      "image/png": "[encoded data removed]",
      "text/plain": [
       "<matplotlib.figure.Figure at 0x138c4518>"
      ]
     },
     "metadata": {},
     "output_type": "display_data"
    }
   ],
   "source": [
    "# We are working with car, motorcycle, hockey, and baseball \n",
    "x.dispersion_plot(['car','motorcycle','goal','puck','base'])"
   ]
  },
  {
   "cell_type": "code",
   "execution_count": 56,
   "metadata": {
    "collapsed": true
   },
   "outputs": [],
   "source": [
    "# define function that extracts tokens from a given newsgroups category\n",
    "def words_in_category(cat):\n",
    "    g = fetch_20newsgroups(subset='train',\n",
    "                           categories=[cat],\n",
    "                           remove=('headers', 'footers', 'quotes'))\n",
    "    ltokens = [nltk.word_tokenize(doc) for doc in g.data[:500]]\n",
    "    # convert list of list of tokens (ltokens) into a list of tokens\n",
    "    import itertools\n",
    "    tokens = list(itertools.chain.from_iterable(ltokens)) \n",
    "    return nltk.Text(t.lower() for t in tokens)"
   ]
  },
  {
   "cell_type": "code",
   "execution_count": 57,
   "metadata": {
    "collapsed": false,
    "nbpresent": {
     "id": "b5e557e6-af35-40f1-8b8a-100df01ee4d2"
    }
   },
   "outputs": [
    {
     "name": "stdout",
     "output_type": "stream",
     "text": [
      "                          car motorcycle       goal       puck       base \n",
      "         rec.autos        397          0          1          0          5 \n",
      "   rec.motorcycles         47         90          0          0          4 \n",
      "rec.sport.baseball          0          0          1          2         36 \n",
      "  rec.sport.hockey          5          0        109        104          3 \n"
     ]
    },
    {
     "data": {
      "image/png": "[encoded data removed]",
      "text/plain": [
       "<matplotlib.figure.Figure at 0x9a2f5c0>"
      ]
     },
     "metadata": {},
     "output_type": "display_data"
    }
   ],
   "source": [
    "cfd = nltk.ConditionalFreqDist((cat, word)\n",
    "                                for cat in ['rec.autos',\n",
    "                                            'rec.motorcycles',\n",
    "                                            'rec.sport.baseball',\n",
    "                                            'rec.sport.hockey']\n",
    "                                for word in words_in_category(cat))\n",
    "\n",
    "cfd.tabulate(samples=['car','motorcycle','goal','puck','base'])\n",
    "cfd.plot(samples=['car','motorcycle','goal','puck','base'])"
   ]
  },
  {
   "cell_type": "markdown",
   "metadata": {
    "nbpresent": {
     "id": "c4ce09e6-fc3a-48f4-bad1-ba4b0af6f4a4"
    },
    "slideshow": {
     "slide_type": "slide"
    }
   },
   "source": [
    "### Word Concordances\n",
    "\n",
    "A word concordance captures the context around a word."
   ]
  },
  {
   "cell_type": "code",
   "execution_count": 58,
   "metadata": {
    "collapsed": false,
    "nbpresent": {
     "id": "3670c0dd-2246-4644-8886-fddbbf0b33dc"
    },
    "slideshow": {
     "slide_type": "subslide"
    }
   },
   "outputs": [
    {
     "name": "stdout",
     "output_type": "stream",
     "text": [
      "Displaying 5 of 84 matches:\n",
      "couples times and i think its a great car , esp on snow . however when she took\n",
      "retty stubid to me . by the way , the car looks great . scoring stats for the s\n",
      ". kind of disconcerting . i sold that car quite a few years back but the memory\n",
      "mon law had been in place then , that car would have been covered . i have had \n",
      "would never purchase another american car with a standard . american manufactur\n"
     ]
    }
   ],
   "source": [
    "x.concordance('car',lines=5,width=80)"
   ]
  },
  {
   "cell_type": "markdown",
   "metadata": {
    "nbpresent": {
     "id": "38d4dcba-bbb0-46c8-8f70-574214bcc25a"
    },
    "slideshow": {
     "slide_type": "slide"
    }
   },
   "source": [
    "### POS Tagging\n",
    "\n",
    "Tagging each token with its part of speech is useful for other tasks in natural language processing, such as named entity recognition and relation extraction."
   ]
  },
  {
   "cell_type": "code",
   "execution_count": 59,
   "metadata": {
    "collapsed": false
   },
   "outputs": [
    {
     "data": {
      "text/plain": [
       "[u'Dr.', u'J.', u'Gubler', u'studied', u'dengue', u'at', u'the', u'CDC', u'.']"
      ]
     },
     "execution_count": 59,
     "metadata": {},
     "output_type": "execute_result"
    }
   ],
   "source": [
    "# tokens = nltk.word_tokenize(sent)\n",
    "tokens = nltk.word_tokenize(u\"Dr. J. Gubler studied dengue at the CDC.\")\n",
    "tokens"
   ]
  },
  {
   "cell_type": "code",
   "execution_count": 60,
   "metadata": {
    "collapsed": false,
    "nbpresent": {
     "id": "b1337ff5-9c90-4da6-8d7d-6de0fb6daf24"
    },
    "slideshow": {
     "slide_type": "subslide"
    }
   },
   "outputs": [
    {
     "name": "stdout",
     "output_type": "stream",
     "text": [
      "(u'Dr.', 'NNP')\n",
      "(u'J.', 'NNP')\n",
      "(u'Gubler', 'NNP')\n",
      "(u'studied', 'VBD')\n",
      "(u'dengue', 'NN')\n",
      "(u'at', 'IN')\n",
      "(u'the', 'DT')\n",
      "(u'CDC', 'NNP')\n",
      "(u'.', '.')\n"
     ]
    }
   ],
   "source": [
    "post_tokens = nltk.pos_tag(tokens)\n",
    "for item in post_tokens:\n",
    "    print item"
   ]
  },
  {
   "cell_type": "code",
   "execution_count": 61,
   "metadata": {
    "collapsed": false,
    "nbpresent": {
     "id": "647ae5d8-11df-4c4e-8036-f67ba1dc9a19"
    },
    "slideshow": {
     "slide_type": "slide"
    }
   },
   "outputs": [
    {
     "name": "stdout",
     "output_type": "stream",
     "text": [
      "NNP: noun, proper, singular\n",
      "    Motown Venneboerger Czestochwa Ranzer Conchita Trumplane Christos\n",
      "    Oceanside Escobar Kreisler Sawyer Cougar Yvette Ervin ODI Darryl CTCA\n",
      "    Shannon A.K.C. Meltex Liverpool ...\n",
      "None\n"
     ]
    }
   ],
   "source": [
    "# What do the tags mean?\n",
    "print nltk.help.upenn_tagset('NNP')"
   ]
  },
  {
   "cell_type": "markdown",
   "metadata": {
    "nbpresent": {
     "id": "f2efe0b8-df46-4958-b7fc-50806e79ad35"
    },
    "slideshow": {
     "slide_type": "slide"
    }
   },
   "source": [
    "### Shallow parsing and Named Entity Recognition (NER)"
   ]
  },
  {
   "cell_type": "code",
   "execution_count": 62,
   "metadata": {
    "collapsed": false
   },
   "outputs": [
    {
     "name": "stdout",
     "output_type": "stream",
     "text": [
      "(S\n",
      "  Dr./NNP\n",
      "  J./NNP\n",
      "  (PERSON Gubler/NNP)\n",
      "  studied/VBD\n",
      "  dengue/NN\n",
      "  at/IN\n",
      "  the/DT\n",
      "  (ORGANIZATION CDC/NNP)\n",
      "  ./.)\n"
     ]
    }
   ],
   "source": [
    "chunked_sentence = nltk.ne_chunk(post_tokens)\n",
    "print chunked_sentence"
   ]
  },
  {
   "cell_type": "code",
   "execution_count": 68,
   "metadata": {
    "collapsed": false
   },
   "outputs": [
    {
     "data": {
      "image/png": "[encoded data removed]",
      "text/plain": [
       "Tree('S', [(u'Dr.', 'NNP'), (u'J.', 'NNP'), Tree('PERSON', [(u'Gubler', 'NNP')]), (u'studied', 'VBD'), (u'dengue', 'NN'), (u'at', 'IN'), (u'the', 'DT'), Tree('ORGANIZATION', [(u'CDC', 'NNP')]), (u'.', '.')])"
      ]
     },
     "execution_count": 68,
     "metadata": {},
     "output_type": "execute_result"
    }
   ],
   "source": [
    "import os\n",
    "from IPython.core.display import display\n",
    "os.environ['PATH'] += os.pathsep + 'C://toolkits//gs//gs9.20//bin'\n",
    "chunked_sentence"
   ]
  },
  {
   "cell_type": "markdown",
   "metadata": {},
   "source": [
    "Can we get a better parsing of the above sentence?\n",
    "\n",
    "**Chunking** is a technique that segments and labels multi-token sequences.\n",
    "\n",
    "A *chunk grammar* is the set of rules that define how sentences should be chunked. "
   ]
  },
  {
   "cell_type": "code",
   "execution_count": 69,
   "metadata": {
    "collapsed": false
   },
   "outputs": [
    {
     "data": {
      "image/png": "[encoded data removed]",
      "text/plain": [
       "Tree('S', [Tree('NP', [(u'Dr.', 'NNP'), (u'J.', 'NNP')]), Tree('PERSON', [(u'Gubler', 'NNP')]), (u'studied', 'VBD'), Tree('NP', [(u'dengue', 'NN')]), (u'at', 'IN'), (u'the', 'DT'), Tree('ORGANIZATION', [(u'CDC', 'NNP')]), (u'.', '.')])"
      ]
     },
     "metadata": {},
     "output_type": "display_data"
    },
    {
     "data": {
      "image/png": "[encoded data removed]",
      "text/plain": [
       "Tree('S', [Tree('NP', [(u'Dr.', 'NNP'), (u'J.', 'NNP'), (u'Gubler', 'NNP')]), (u'studied', 'VBD'), Tree('NP', [(u'dengue', 'NN')]), (u'at', 'IN'), (u'the', 'DT'), Tree('NP', [(u'CDC', 'NNP')]), (u'.', '.')])"
      ]
     },
     "metadata": {},
     "output_type": "display_data"
    }
   ],
   "source": [
    "# define the chunk grammar and initialize the chunker\n",
    "grammar = r\"\"\"\n",
    "  NP: {<DT|PP\\$>?<JJ>*<NN>}   # chunk determiner/possessive, adjectives and noun\n",
    "      {<NNP>+}                # chunk sequences of proper nouns\n",
    "\"\"\"\n",
    "cp = nltk.RegexpParser(grammar)\n",
    "\n",
    "# parse the sentence using the chunker\n",
    "display(cp.parse(chunked_sentence))\n",
    "display(cp.parse(post_tokens))"
   ]
  },
  {
   "cell_type": "markdown",
   "metadata": {},
   "source": [
    "Note on regular expressions:\n",
    " * | : \"or\" symbol\n",
    " * ? : zero or one occurrences of the preceding element. For example, colou?r matches both \"color\" and \"colour\".\n",
    " * \\* : zero or more occurrences of the preceding element\n",
    " * \\+ : one or more occurrences of the preceding element"
   ]
  },
  {
   "cell_type": "markdown",
   "metadata": {},
   "source": [
    "Some regular expression examples:"
   ]
  },
  {
   "cell_type": "code",
   "execution_count": 203,
   "metadata": {
    "collapsed": false
   },
   "outputs": [
    {
     "data": {
      "text/plain": [
       "u'definitely win the division unless it snows in Hell/Maryland :)'"
      ]
     },
     "execution_count": 203,
     "metadata": {},
     "output_type": "execute_result"
    }
   ],
   "source": [
    "import re\n",
    "some_text = '\\n'.join(news.data[:1000])\n",
    "m = re.search(r'(.*) \\:\\)', some_text)\n",
    "m.group()"
   ]
  },
  {
   "cell_type": "code",
   "execution_count": 207,
   "metadata": {
    "collapsed": false
   },
   "outputs": [
    {
     "name": "stdout",
     "output_type": "stream",
     "text": [
      "[u':-)', u':)', u':-)', u':-)', u':-)', u':-(', u':-)', u':)', u':)', u':)']\n"
     ]
    }
   ],
   "source": [
    "emojis = re.findall(r'\\:\\-?[\\(\\)]', some_text)\n",
    "print emojis[:10]"
   ]
  },
  {
   "cell_type": "markdown",
   "metadata": {},
   "source": [
    "### Appendix"
   ]
  },
  {
   "cell_type": "code",
   "execution_count": 208,
   "metadata": {
    "collapsed": false
   },
   "outputs": [
    {
     "name": "stdout",
     "output_type": "stream",
     "text": [
      "(GPE Toronto/NNP)\n",
      "(ORGANIZATION SVX/NNP)\n",
      "(ORGANIZATION Subaru/NNP)\n",
      "(GPE Subaru/NNP)\n"
     ]
    }
   ],
   "source": [
    "# get some of the named entities in 20 news groups\n",
    "import helper_ner \n",
    "\n",
    "sentences = []\n",
    "[sentences.extend(nltk.sent_tokenize(text)) for text in news.data[:1]]\n",
    "tokenized_sentences = [nltk.word_tokenize(sentence) for sentence in sentences]\n",
    "tagged_sentences = [nltk.pos_tag(sentence) for sentence in tokenized_sentences]\n",
    "chunked_sentences = nltk.ne_chunk_sents(tagged_sentences, binary=False)\n",
    "\n",
    "named_entities = helper_ner.get_all_named_entities(chunked_sentences, structure='string')\n",
    "unique_named_entities = set(named_entities)\n",
    "for l in unique_named_entities:\n",
    "    print l"
   ]
  }
 ],
 "metadata": {
  "anaconda-cloud": {},
  "celltoolbar": "Slideshow",
  "kernelspec": {
   "display_name": "Python [conda root]",
   "language": "python",
   "name": "conda-root-py"
  },
  "language_info": {
   "codemirror_mode": {
    "name": "ipython",
    "version": 2
   },
   "file_extension": ".py",
   "mimetype": "text/x-python",
   "name": "python",
   "nbconvert_exporter": "python",
   "pygments_lexer": "ipython2",
   "version": "2.7.12"
  },
  "nbpresent": {
   "slides": {
    "16df8b59-5bc2-4d5b-ba3f-a178744ac923": {
     "id": "16df8b59-5bc2-4d5b-ba3f-a178744ac923",
     "prev": "aa3ee3b4-556f-4ea8-b8a4-e51c983ca770",
     "regions": {
      "ab3fc3b2-a4b3-4943-9aa5-825ac7088ff5": {
       "attrs": {
        "height": 1,
        "width": 1,
        "x": 0,
        "y": 0
       },
       "content": {
        "cell": "1fd934b5-bc66-4e5d-b1f1-b761fd7c1b3b",
        "part": "source"
       },
       "id": "ab3fc3b2-a4b3-4943-9aa5-825ac7088ff5"
      }
     }
    },
    "30f3fb19-fbe3-4d69-abd5-7f8b7f40efd8": {
     "id": "30f3fb19-fbe3-4d69-abd5-7f8b7f40efd8",
     "prev": "16df8b59-5bc2-4d5b-ba3f-a178744ac923",
     "regions": {
      "4e25a3a0-2bae-441b-8b54-169061b9f3e3": {
       "attrs": {
        "height": 1,
        "width": 1,
        "x": 0,
        "y": 0
       },
       "content": {
        "cell": "695365a2-6432-4ccb-a0f7-102a4ada25a2",
        "part": "source"
       },
       "id": "4e25a3a0-2bae-441b-8b54-169061b9f3e3"
      }
     }
    },
    "7a2c2b31-a6ac-4207-9c14-d99373562671": {
     "id": "7a2c2b31-a6ac-4207-9c14-d99373562671",
     "prev": "b5748b9e-f422-4eb4-97d8-013656ea71ea",
     "regions": {
      "522b018f-71db-441b-acea-9bc6ac6e8fab": {
       "attrs": {
        "height": 0.8,
        "width": 0.45,
        "x": 0.05,
        "y": 0.1
       },
       "content": {
        "cell": "a3e854d4-afd1-407b-ad3b-3388adfa5c59",
        "part": "source"
       },
       "id": "522b018f-71db-441b-acea-9bc6ac6e8fab"
      },
      "75c3539a-d2df-44a7-9d7b-b782086041b6": {
       "attrs": {
        "height": 0.8,
        "width": 0.45,
        "x": 0.5,
        "y": 0.1
       },
       "content": {
        "cell": "39a062c0-53d9-4836-b7f2-d863557c3842",
        "part": "whole"
       },
       "id": "75c3539a-d2df-44a7-9d7b-b782086041b6"
      }
     }
    },
    "8ee2439b-8d0e-45af-a452-b807bd7d1cb0": {
     "id": "8ee2439b-8d0e-45af-a452-b807bd7d1cb0",
     "prev": null,
     "regions": {
      "ff2c3bf2-9512-4de8-a236-39de1db8813a": {
       "attrs": {
        "height": 0.8,
        "width": 0.45,
        "x": 0.05,
        "y": 0.1
       },
       "content": {
        "cell": "c8b3ec86-ac5d-44c9-a5c5-ea12c7ccb113",
        "part": "source"
       },
       "id": "ff2c3bf2-9512-4de8-a236-39de1db8813a"
      }
     }
    },
    "aa3ee3b4-556f-4ea8-b8a4-e51c983ca770": {
     "id": "aa3ee3b4-556f-4ea8-b8a4-e51c983ca770",
     "prev": "8ee2439b-8d0e-45af-a452-b807bd7d1cb0",
     "regions": {
      "18dde78c-c9d1-433b-b821-25954e65efc6": {
       "attrs": {
        "height": 1,
        "width": 1,
        "x": 0,
        "y": 0
       },
       "content": {
        "cell": "0c03e049-d629-440b-85bd-ef2883ca61ad",
        "part": "source"
       },
       "id": "18dde78c-c9d1-433b-b821-25954e65efc6"
      }
     }
    },
    "b5748b9e-f422-4eb4-97d8-013656ea71ea": {
     "id": "b5748b9e-f422-4eb4-97d8-013656ea71ea",
     "prev": "30f3fb19-fbe3-4d69-abd5-7f8b7f40efd8",
     "regions": {
      "cf8a6c53-278d-4d91-8131-8a73a4e6ef28": {
       "attrs": {
        "height": 1,
        "width": 1,
        "x": 0,
        "y": 0
       },
       "content": {
        "cell": "a3e854d4-afd1-407b-ad3b-3388adfa5c59",
        "part": "source"
       },
       "id": "cf8a6c53-278d-4d91-8131-8a73a4e6ef28"
      }
     }
    },
    "ffce2803-6b15-4098-9995-74f1fbbb9307": {
     "id": "ffce2803-6b15-4098-9995-74f1fbbb9307",
     "prev": "7a2c2b31-a6ac-4207-9c14-d99373562671",
     "regions": {
      "0f1c7dd4-d298-45cf-8c6a-57b877272ae8": {
       "attrs": {
        "height": 1,
        "width": 1,
        "x": 0,
        "y": 0
       },
       "content": {
        "cell": "39a062c0-53d9-4836-b7f2-d863557c3842",
        "part": "whole"
       },
       "id": "0f1c7dd4-d298-45cf-8c6a-57b877272ae8"
      }
     }
    }
   },
   "themes": {
    "default": "074f5102-975e-42ad-a86d-e888569a1bb0",
    "theme": {
     "074f5102-975e-42ad-a86d-e888569a1bb0": {
      "backgrounds": {
       "dc7afa04-bf90-40b1-82a5-726e3cff5267": {
        "background-color": "31af15d2-7e15-44c5-ab5e-e04b16a89eff",
        "id": "dc7afa04-bf90-40b1-82a5-726e3cff5267"
       }
      },
      "id": "074f5102-975e-42ad-a86d-e888569a1bb0",
      "palette": {
       "19cc588f-0593-49c9-9f4b-e4d7cc113b1c": {
        "id": "19cc588f-0593-49c9-9f4b-e4d7cc113b1c",
        "rgb": [
         252,
         252,
         252
        ]
       },
       "31af15d2-7e15-44c5-ab5e-e04b16a89eff": {
        "id": "31af15d2-7e15-44c5-ab5e-e04b16a89eff",
        "rgb": [
         68,
         68,
         68
        ]
       },
       "50f92c45-a630-455b-aec3-788680ec7410": {
        "id": "50f92c45-a630-455b-aec3-788680ec7410",
        "rgb": [
         197,
         226,
         245
        ]
       },
       "c5cc3653-2ee1-402a-aba2-7caae1da4f6c": {
        "id": "c5cc3653-2ee1-402a-aba2-7caae1da4f6c",
        "rgb": [
         43,
         126,
         184
        ]
       },
       "efa7f048-9acb-414c-8b04-a26811511a21": {
        "id": "efa7f048-9acb-414c-8b04-a26811511a21",
        "rgb": [
         25.118061674008803,
         73.60176211453744,
         107.4819383259912
        ]
       }
      },
      "rules": {
       "a": {
        "color": "19cc588f-0593-49c9-9f4b-e4d7cc113b1c"
       },
       "blockquote": {
        "color": "50f92c45-a630-455b-aec3-788680ec7410",
        "font-size": 3
       },
       "code": {
        "font-family": "Anonymous Pro"
       },
       "h1": {
        "color": "19cc588f-0593-49c9-9f4b-e4d7cc113b1c",
        "font-family": "Merriweather",
        "font-size": 8
       },
       "h2": {
        "color": "19cc588f-0593-49c9-9f4b-e4d7cc113b1c",
        "font-family": "Merriweather",
        "font-size": 6
       },
       "h3": {
        "color": "50f92c45-a630-455b-aec3-788680ec7410",
        "font-family": "Lato",
        "font-size": 5.5
       },
       "h4": {
        "color": "c5cc3653-2ee1-402a-aba2-7caae1da4f6c",
        "font-family": "Lato",
        "font-size": 5
       },
       "h5": {
        "font-family": "Lato"
       },
       "h6": {
        "font-family": "Lato"
       },
       "h7": {
        "font-family": "Lato"
       },
       "li": {
        "color": "50f92c45-a630-455b-aec3-788680ec7410",
        "font-size": 3.25
       },
       "pre": {
        "font-family": "Anonymous Pro",
        "font-size": 4
       }
      },
      "text-base": {
       "color": "19cc588f-0593-49c9-9f4b-e4d7cc113b1c",
       "font-family": "Lato",
       "font-size": 4
      }
     },
     "870622fb-0a9f-4a9f-9d04-a55735a537a8": {
      "id": "870622fb-0a9f-4a9f-9d04-a55735a537a8",
      "palette": {
       "19cc588f-0593-49c9-9f4b-e4d7cc113b1c": {
        "id": "19cc588f-0593-49c9-9f4b-e4d7cc113b1c",
        "rgb": [
         252,
         252,
         252
        ]
       },
       "31af15d2-7e15-44c5-ab5e-e04b16a89eff": {
        "id": "31af15d2-7e15-44c5-ab5e-e04b16a89eff",
        "rgb": [
         68,
         68,
         68
        ]
       },
       "50f92c45-a630-455b-aec3-788680ec7410": {
        "id": "50f92c45-a630-455b-aec3-788680ec7410",
        "rgb": [
         155,
         177,
         192
        ]
       },
       "c5cc3653-2ee1-402a-aba2-7caae1da4f6c": {
        "id": "c5cc3653-2ee1-402a-aba2-7caae1da4f6c",
        "rgb": [
         43,
         126,
         184
        ]
       },
       "efa7f048-9acb-414c-8b04-a26811511a21": {
        "id": "efa7f048-9acb-414c-8b04-a26811511a21",
        "rgb": [
         25.118061674008803,
         73.60176211453744,
         107.4819383259912
        ]
       }
      },
      "rules": {
       "blockquote": {
        "color": "50f92c45-a630-455b-aec3-788680ec7410"
       },
       "code": {
        "font-family": "Anonymous Pro"
       },
       "h1": {
        "color": "c5cc3653-2ee1-402a-aba2-7caae1da4f6c",
        "font-family": "Lato",
        "font-size": 8
       },
       "h2": {
        "color": "c5cc3653-2ee1-402a-aba2-7caae1da4f6c",
        "font-family": "Lato",
        "font-size": 6
       },
       "h3": {
        "color": "50f92c45-a630-455b-aec3-788680ec7410",
        "font-family": "Lato",
        "font-size": 5.5
       },
       "h4": {
        "color": "c5cc3653-2ee1-402a-aba2-7caae1da4f6c",
        "font-family": "Lato",
        "font-size": 5
       },
       "h5": {
        "font-family": "Lato"
       },
       "h6": {
        "font-family": "Lato"
       },
       "h7": {
        "font-family": "Lato"
       },
       "pre": {
        "font-family": "Anonymous Pro",
        "font-size": 4
       }
      },
      "text-base": {
       "font-family": "Merriweather",
       "font-size": 4
      }
     }
    }
   }
  }
 },
 "nbformat": 4,
 "nbformat_minor": 1
}

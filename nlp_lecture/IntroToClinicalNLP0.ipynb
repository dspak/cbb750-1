{
 "cells": [
  {
   "cell_type": "markdown",
   "metadata": {
    "nbpresent": {
     "id": "54403086-c4d6-43bf-8e20-295135d46b58"
    },
    "slideshow": {
     "slide_type": "slide"
    }
   },
   "source": [
    "# Intro to clinical NLP\n",
    "\n",
    "### What is clinical NLP and what can it be used for?\n",
    "\n",
    "- Written or dictated clinical narratives, e.g. admission notes, treatment plans, patient summaries, contain much information about the patient\n",
    "- Mine published research (information retrieval) ; e.g. mine clinicaltrials.gov/pubmed abstracts\n",
    "- Phewas - phenotype identification\n",
    "- Clinical trial enrollment - match patients to enrolling trials based on inclusion/exclusion criteria"
   ]
  },
  {
   "cell_type": "markdown",
   "metadata": {
    "nbpresent": {
     "id": "50e4448e-68cd-414f-b599-d784c02cdf81"
    },
    "slideshow": {
     "slide_type": "slide"
    }
   },
   "source": [
    "### However, these are challenging to analyze\n",
    "- Heterogeneous (no “standard note”)\n",
    "- Author- and domain-specific idiosyncrasies, acronyms, abbreviations\n",
    "- Typing/spelling errors"
   ]
  },
  {
   "cell_type": "markdown",
   "metadata": {
    "nbpresent": {
     "id": "d3506d27-307c-4060-83e6-09d1a9afb97d"
    },
    "slideshow": {
     "slide_type": "slide"
    }
   },
   "source": [
    "### Use case. **Information extraction**\n",
    "- Read medical charts/notes to determine if patient has fallen within the past month.\n",
    "- Read medical charts to determine if the patient is a smoker."
   ]
  },
  {
   "cell_type": "markdown",
   "metadata": {
    "nbpresent": {
     "id": "a35b05ff-2784-48e2-abb4-81a49bd3d7c4"
    },
    "slideshow": {
     "slide_type": "subslide"
    }
   },
   "source": [
    "### Use case. **Question answering**\n",
    "- Has the patient fallen within the past month?\n",
    "- What are the symptoms of Zika virus?\n",
    "- How many years has the patient been a smoker?"
   ]
  },
  {
   "cell_type": "markdown",
   "metadata": {
    "nbpresent": {
     "id": "ffe73917-f954-45f4-9999-ab11cf7004b3"
    },
    "slideshow": {
     "slide_type": "slide"
    }
   },
   "source": [
    "### NLP is usually probabilistic, for example...\n",
    "- A word, clause, or sentence often has multiple possible meanings\n",
    "- Homonymns: lies, bank (river bank or financial institution)\n",
    "- “Fruit flies like a banana.”\n",
    "- We build statistical models that assign probabilities to the multiple possible meanings\n",
    "- Take the meaning with the highest probability"
   ]
  },
  {
   "cell_type": "markdown",
   "metadata": {
    "nbpresent": {
     "id": "c717e7b6-9162-495e-b287-ad95295c320f"
    },
    "slideshow": {
     "slide_type": "slide"
    }
   },
   "source": [
    "### Shallow vs. deep NLP\n",
    "- Shallow tasks\n",
    "  1. Partial string matching\n",
    "  2. Pattern matching (regular expressions)\n",
    "  3. N-grams (tokens, characters)\n",
    "- BOW does not distinguish between \"Dog bites man\" vs. \"Man bites dog\"\n",
    "- Deep (natural language understanding)\n",
    "  1. Parsing. “Parsing is a small step towards finding the meaning of a linguistic utterance.”; original sentence has structure which establishes the relationship(s) between different entities and properties. This structure is captured in the parse tree of the sentence.\n",
    "  2. A natural language parser is a program that works out the grammatical structure of sentences, for instance, which groups of words go together (as \"phrases\") and which words are the subject or object of a verb."
   ]
  },
  {
   "cell_type": "markdown",
   "metadata": {
    "nbpresent": {
     "id": "1c27bbf3-195d-4eae-8fb7-43fe58fbdffa"
    },
    "slideshow": {
     "slide_type": "slide"
    }
   },
   "source": [
    "### Named entity recognition\n",
    "- Named entities are definite noun phrases that refer to specific types of individuals (organizations, persons, dates, medications, treatments, procedures, signs, symptoms)\n",
    "\n",
    "- Task: map noun phrases to controlled vocabularies (e.g. UMLS, SNOMED-CT concepts)"
   ]
  },
  {
   "cell_type": "markdown",
   "metadata": {
    "nbpresent": {
     "id": "1b19b901-9b11-432d-baca-3afbb0bff983"
    },
    "slideshow": {
     "slide_type": "slide"
    }
   },
   "source": [
    "### Concept graphs/ Semantic Relatedness\n",
    "**WordNet** is a semantically oriented dictionary of English, similar to a traditional thesaurus but with a richer structure.\n",
    "\n",
    "This is useful in searching.  For example, searching for \"virus\" should return documents that mention \"Zika\"."
   ]
  },
  {
   "cell_type": "markdown",
   "metadata": {
    "nbpresent": {
     "id": "b4893477-cbd6-412b-b60c-bb713c8191a2"
    },
    "slideshow": {
     "slide_type": "slide"
    }
   },
   "source": [
    "### Areas of research\n",
    "- Negation detection\n",
    "- Named entity recognition outside of noun phrases\n",
    "  * “A small mass was found in the left hilum of the lung.”\n",
    "- Pronoun resolution\n",
    "- Parsing (i.e. diagramming the sentence)\n",
    "- Recognizing textual entailment\n",
    "    * Determine whether given piece of text implies another text\n",
    "    * Example:\n",
    "        - Hypothesis: \"Sandra Goudie was defeated by Max Purnell\"\n",
    "        - Retrieved Text: \"Sandra Goudie was first elected to Parliament in the 2002 elections, narrowly winning the seat of Coromandel by defeating Labour candidate Max Purnell and pushing incumbent Green MP Jeanette Fitzsimons into third place.\"\n",
    "        - Does the text provide enough evidence to support the hypothesis?"
   ]
  },
  {
   "cell_type": "markdown",
   "metadata": {
    "nbpresent": {
     "id": "c314872b-1f49-4935-a7f4-da210347b489"
    },
    "slideshow": {
     "slide_type": "slide"
    }
   },
   "source": [
    "### Resources\n",
    "- Computational linguistics at Yale\n",
    "- Clinical Corpora: \n",
    " * http://compbio.ucdenver.edu/ccp/corpora/obtaining.shtml\n",
    " * I2b2: https://www.i2b2.org/NLP/DataSets/Main.php \n",
    " * FDA adverse event reports: https://open.fda.gov/"
   ]
  }
 ],
 "metadata": {
  "anaconda-cloud": {},
  "celltoolbar": "Slideshow",
  "kernelspec": {
   "display_name": "Python [default]",
   "language": "python",
   "name": "python2"
  },
  "language_info": {
   "codemirror_mode": {
    "name": "ipython",
    "version": 2
   },
   "file_extension": ".py",
   "mimetype": "text/x-python",
   "name": "python",
   "nbconvert_exporter": "python",
   "pygments_lexer": "ipython2",
   "version": "2.7.12"
  },
  "nbpresent": {
   "slides": {
    "19c94afe-0ae4-4047-85dc-369484fbe870": {
     "id": "19c94afe-0ae4-4047-85dc-369484fbe870",
     "prev": "718604b7-85f4-460d-8836-3d9bbc01a2d7",
     "regions": {
      "d954027d-0b99-4f00-a740-6e17b073a558": {
       "attrs": {
        "height": 0.8,
        "width": 0.8,
        "x": 0.1,
        "y": 0.1
       },
       "content": {
        "cell": "c314872b-1f49-4935-a7f4-da210347b489",
        "part": "whole"
       },
       "id": "d954027d-0b99-4f00-a740-6e17b073a558"
      }
     }
    },
    "2615c2e5-bc13-4343-860d-2965ebcfea68": {
     "id": "2615c2e5-bc13-4343-860d-2965ebcfea68",
     "prev": "9f7c852e-7ed9-4777-9d06-ac8515cc243b",
     "regions": {
      "3b6b47ce-d8a8-4521-9c59-ba4d44e476d4": {
       "attrs": {
        "height": 0.8,
        "width": 0.8,
        "x": 0.1,
        "y": 0.1
       },
       "content": {
        "cell": "ffe73917-f954-45f4-9999-ab11cf7004b3",
        "part": "whole"
       },
       "id": "3b6b47ce-d8a8-4521-9c59-ba4d44e476d4"
      }
     }
    },
    "2ab8ae0e-0f97-4b6b-8746-26e2687ed231": {
     "id": "2ab8ae0e-0f97-4b6b-8746-26e2687ed231",
     "layout": "manual",
     "prev": null,
     "regions": {
      "254ce83d-5141-4ab0-a8c3-8894ceaf2a11": {
       "attrs": {
        "height": 8.23449460663455,
        "width": 8.049999999999999,
        "x": -0.16413477091861342,
        "y": 0.10990862291094006
       },
       "content": {
        "cell": "54403086-c4d6-43bf-8e20-295135d46b58",
        "part": "whole"
       },
       "height": 5,
       "id": "254ce83d-5141-4ab0-a8c3-8894ceaf2a11",
       "width": 1,
       "x": 0,
       "y": -0.1
      }
     }
    },
    "718604b7-85f4-460d-8836-3d9bbc01a2d7": {
     "id": "718604b7-85f4-460d-8836-3d9bbc01a2d7",
     "prev": "f2db5a41-61ac-47af-b03f-539bfd105f50",
     "regions": {
      "e615b851-d1f8-4e7c-b3da-0759a0e7ed48": {
       "attrs": {
        "height": 0.8,
        "width": 0.8,
        "x": 0.1,
        "y": 0.1
       },
       "content": {
        "cell": "b4893477-cbd6-412b-b60c-bb713c8191a2",
        "part": "whole"
       },
       "id": "e615b851-d1f8-4e7c-b3da-0759a0e7ed48"
      }
     }
    },
    "8e23d23a-8f8e-4bff-98e2-d0b804c59fa4": {
     "id": "8e23d23a-8f8e-4bff-98e2-d0b804c59fa4",
     "prev": "98d969e3-ce88-4dae-8d54-c226cf59ee18",
     "regions": {
      "b0cf9313-ef38-44e0-85b9-1136bf474426": {
       "attrs": {
        "height": 0.8,
        "width": 0.8,
        "x": 0.1,
        "y": 0.1
       },
       "content": {
        "cell": "d3506d27-307c-4060-83e6-09d1a9afb97d",
        "part": "whole"
       },
       "id": "b0cf9313-ef38-44e0-85b9-1136bf474426"
      }
     }
    },
    "98d969e3-ce88-4dae-8d54-c226cf59ee18": {
     "id": "98d969e3-ce88-4dae-8d54-c226cf59ee18",
     "prev": "2ab8ae0e-0f97-4b6b-8746-26e2687ed231",
     "regions": {
      "ffd94d5c-807b-495f-b831-55820a20977e": {
       "attrs": {
        "height": 0.8,
        "width": 0.8,
        "x": 0.1,
        "y": 0.1
       },
       "content": {
        "cell": "50e4448e-68cd-414f-b599-d784c02cdf81",
        "part": "whole"
       },
       "id": "ffd94d5c-807b-495f-b831-55820a20977e"
      }
     }
    },
    "9f7c852e-7ed9-4777-9d06-ac8515cc243b": {
     "id": "9f7c852e-7ed9-4777-9d06-ac8515cc243b",
     "prev": "8e23d23a-8f8e-4bff-98e2-d0b804c59fa4",
     "regions": {
      "ff0d7f17-70e5-46d6-91fa-97a65a941204": {
       "attrs": {
        "height": 0.8,
        "width": 0.8,
        "x": 0.1,
        "y": 0.1
       },
       "content": {
        "cell": "a35b05ff-2784-48e2-abb4-81a49bd3d7c4",
        "part": "whole"
       },
       "id": "ff0d7f17-70e5-46d6-91fa-97a65a941204"
      }
     }
    },
    "a78cd045-3fa0-4b9a-8d32-cdc28348c8f6": {
     "id": "a78cd045-3fa0-4b9a-8d32-cdc28348c8f6",
     "prev": "ecc63de8-26d3-4604-acd6-392e3b93adb6",
     "regions": {
      "786d4d94-c231-4112-8e54-b983dd77a3c6": {
       "attrs": {
        "height": 0.8,
        "width": 0.8,
        "x": 0.1,
        "y": 0.1
       },
       "content": {
        "cell": "1c27bbf3-195d-4eae-8fb7-43fe58fbdffa",
        "part": "whole"
       },
       "id": "786d4d94-c231-4112-8e54-b983dd77a3c6"
      }
     }
    },
    "ecc63de8-26d3-4604-acd6-392e3b93adb6": {
     "id": "ecc63de8-26d3-4604-acd6-392e3b93adb6",
     "prev": "2615c2e5-bc13-4343-860d-2965ebcfea68",
     "regions": {
      "16f35984-e679-4c56-8efe-e11c851a4001": {
       "attrs": {
        "height": 0.8,
        "width": 0.8,
        "x": 0.1,
        "y": 0.1
       },
       "content": {
        "cell": "c717e7b6-9162-495e-b287-ad95295c320f",
        "part": "whole"
       },
       "id": "16f35984-e679-4c56-8efe-e11c851a4001"
      }
     }
    },
    "f2db5a41-61ac-47af-b03f-539bfd105f50": {
     "id": "f2db5a41-61ac-47af-b03f-539bfd105f50",
     "prev": "a78cd045-3fa0-4b9a-8d32-cdc28348c8f6",
     "regions": {
      "455b7f62-bde0-4fec-8b45-6f907cda6d9c": {
       "attrs": {
        "height": 0.8,
        "width": 0.8,
        "x": 0.1,
        "y": 0.1
       },
       "content": {
        "cell": "1b19b901-9b11-432d-baca-3afbb0bff983",
        "part": "whole"
       },
       "id": "455b7f62-bde0-4fec-8b45-6f907cda6d9c"
      }
     }
    },
    "f51a76b6-0c46-432a-9785-fd7a5e3cd4b1": {
     "id": "f51a76b6-0c46-432a-9785-fd7a5e3cd4b1",
     "prev": "19c94afe-0ae4-4047-85dc-369484fbe870",
     "regions": {
      "5f3b1efa-d3af-404e-ae63-ba27b499a141": {
       "attrs": {
        "height": 0.8,
        "width": 0.8,
        "x": 0.1,
        "y": 0.1
       },
       "content": {
        "cell": "f9d432d1-7d73-410c-9e8a-953d5c977f93",
        "part": "whole"
       },
       "id": "5f3b1efa-d3af-404e-ae63-ba27b499a141"
      }
     }
    }
   },
   "themes": {
    "default": "a0d134b2-34a7-455e-bfef-60ff68b625a4",
    "theme": {
     "a0d134b2-34a7-455e-bfef-60ff68b625a4": {
      "id": "a0d134b2-34a7-455e-bfef-60ff68b625a4",
      "palette": {
       "19cc588f-0593-49c9-9f4b-e4d7cc113b1c": {
        "id": "19cc588f-0593-49c9-9f4b-e4d7cc113b1c",
        "rgb": [
         252,
         252,
         252
        ]
       },
       "31af15d2-7e15-44c5-ab5e-e04b16a89eff": {
        "id": "31af15d2-7e15-44c5-ab5e-e04b16a89eff",
        "rgb": [
         68,
         68,
         68
        ]
       },
       "50f92c45-a630-455b-aec3-788680ec7410": {
        "id": "50f92c45-a630-455b-aec3-788680ec7410",
        "rgb": [
         155,
         177,
         192
        ]
       },
       "c5cc3653-2ee1-402a-aba2-7caae1da4f6c": {
        "id": "c5cc3653-2ee1-402a-aba2-7caae1da4f6c",
        "rgb": [
         43,
         126,
         184
        ]
       },
       "efa7f048-9acb-414c-8b04-a26811511a21": {
        "id": "efa7f048-9acb-414c-8b04-a26811511a21",
        "rgb": [
         25.118061674008803,
         73.60176211453744,
         107.4819383259912
        ]
       }
      },
      "rules": {
       "blockquote": {
        "color": "50f92c45-a630-455b-aec3-788680ec7410"
       },
       "code": {
        "font-family": "Anonymous Pro"
       },
       "h1": {
        "color": "c5cc3653-2ee1-402a-aba2-7caae1da4f6c",
        "font-family": "Lato",
        "font-size": 8
       },
       "h2": {
        "color": "c5cc3653-2ee1-402a-aba2-7caae1da4f6c",
        "font-family": "Lato",
        "font-size": 6
       },
       "h3": {
        "color": "50f92c45-a630-455b-aec3-788680ec7410",
        "font-family": "Lato",
        "font-size": 5.5
       },
       "h4": {
        "color": "c5cc3653-2ee1-402a-aba2-7caae1da4f6c",
        "font-family": "Lato",
        "font-size": 5
       },
       "h5": {
        "font-family": "Lato"
       },
       "h6": {
        "font-family": "Lato"
       },
       "h7": {
        "font-family": "Lato"
       },
       "pre": {
        "font-family": "Anonymous Pro",
        "font-size": 4
       }
      },
      "text-base": {
       "font-family": "Merriweather",
       "font-size": 4
      }
     }
    }
   }
  }
 },
 "nbformat": 4,
 "nbformat_minor": 2
}

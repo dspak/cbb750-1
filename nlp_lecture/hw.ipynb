{
 "cells": [
  {
   "cell_type": "markdown",
   "metadata": {},
   "source": [
    "### Homework assignment for clinical NLP"
   ]
  },
  {
   "cell_type": "markdown",
   "metadata": {},
   "source": [
    "(1) Regular Expressions. Complete first 8 “lessons” at https://regexone.com/"
   ]
  },
  {
   "cell_type": "markdown",
   "metadata": {},
   "source": [
    "(2) Propose a simple way of finding negations in a sentence using regular expressions.  \n",
    "Your regular expression should make use of the | and * symbols."
   ]
  },
  {
   "cell_type": "markdown",
   "metadata": {},
   "source": [
    "(3) Use NLTK to tokenize, stem, POS tag, and find named entities in \n",
    "“Fx of obesity but no fx of coronary artery diseases.”  \n",
    "What named entities are in this sentence? What named entities does NLTK recognize? \n",
    "Use NLTK to plot the parse tree returned by "
   ]
  },
  {
   "cell_type": "markdown",
   "metadata": {},
   "source": [
    "(4) Give several tokens with the “WDT” POS tag"
   ]
  },
  {
   "cell_type": "markdown",
   "metadata": {},
   "source": [
    "(5) Create a dispersion plot of \"moon, earth, sun, mars\" in the 'sci.space' category of 20 newsgroups."
   ]
  },
  {
   "cell_type": "markdown",
   "metadata": {},
   "source": [
    "(6) Write a tag pattern to cover noun phrases that contain gerunds, \n",
    "e.g. \"the/DT receiving/VBG end/NN\", \"assistant/NN managing/VBG editor/NN\". \n",
    "Add these patterns to the grammar, one per line. \n",
    "Test your work using some tagged sentences of your own devising."
   ]
  },
  {
   "cell_type": "markdown",
   "metadata": {},
   "source": [
    "(7) Use the function nltk.ne_chunk_sents to find top 10 most common named entities in the 'sci.med' category of 20 newsgroups."
   ]
  },
  {
   "cell_type": "markdown",
   "metadata": {},
   "source": [
    "(8) Look at http://scikit-learn.org/stable/modules/feature_extraction.html\n",
    "\n",
    "Start by initializing ngram_vectorizer = CountVectorizer(analyzer='char_wb', ngram_range=(2, 2), min_df=1)\n",
    "\n",
    "- Apply this to “Fx of obesity but no fx of coronary artery diseases.” \n",
    "- How many features are there?\n",
    "- How many features do you get with setting ngram_range=(2, 5)?"
   ]
  },
  {
   "cell_type": "markdown",
   "metadata": {},
   "source": [
    "(9) Read article on Parsey McParseface: washington post  What is a garden-path sentence?  \n",
    "Can Parsey McParseface help with pronoun resolution across sentences?"
   ]
  }
 ],
 "metadata": {
  "anaconda-cloud": {},
  "kernelspec": {
   "display_name": "Python [conda root]",
   "language": "python",
   "name": "conda-root-py"
  },
  "language_info": {
   "codemirror_mode": {
    "name": "ipython",
    "version": 2
   },
   "file_extension": ".py",
   "mimetype": "text/x-python",
   "name": "python",
   "nbconvert_exporter": "python",
   "pygments_lexer": "ipython2",
   "version": "2.7.12"
  }
 },
 "nbformat": 4,
 "nbformat_minor": 1
}
